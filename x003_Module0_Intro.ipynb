{
 "cells": [
  {
   "cell_type": "markdown",
   "id": "5afde9ec-93ca-411f-81e6-085a960d516d",
   "metadata": {},
   "source": [
    "<img src=\"images/GEMS Informatics Learning.png\" width=600 alt=\"GEMS Learning Logo\" title=\"GEMS Learning\" />"
   ]
  },
  {
   "cell_type": "markdown",
   "id": "80f7c118-aed9-4860-ae14-f6251f982156",
   "metadata": {
    "tags": []
   },
   "source": [
    "# **Introduction to Spatial Data Analysis in R**\n",
    "\n",
    "**Instructors:**  \n",
    "Ali Joglekar (joglekar@umn.edu)  \n",
    "Yuan Chai (chaix026@umn.edu)  \n",
    "\n",
    "**Module Outline:**  \n",
    "- [I/O Point Data & Basic Maps](#Point)  \n",
    "  - [Exercise 2](#Ex2)\n",
    "- [I/O Polygon Data & Basic Maps](#Polygon) \n",
    "  - [Exercise 3](#Ex3)\n",
    "- [I/O Raster Data & Basic Maps](#Raster)  \n",
    "  - [Exercise 4](#Ex4)\n",
    "- [Layering Features in Maps](#Map)\n",
    "  - [Exercise 5](#Ex5)\n",
    "\n",
    "---"
   ]
  },
  {
   "cell_type": "markdown",
   "id": "4e55eb90-e698-4f23-8ec7-a113d4e6f941",
   "metadata": {},
   "source": [
    "### Load R Libraries"
   ]
  },
  {
   "cell_type": "code",
   "execution_count": 1,
   "id": "09a61e31-69a1-4631-a05e-8b7dd92d1e43",
   "metadata": {
    "tags": []
   },
   "outputs": [
    {
     "name": "stderr",
     "output_type": "stream",
     "text": [
      "Linking to GEOS 3.10.2, GDAL 3.4.1, PROJ 8.2.1; sf_use_s2() is TRUE\n",
      "\n",
      "terra 1.5.21\n",
      "\n"
     ]
    }
   ],
   "source": [
    "# Install and load packages needed for this workshop\n",
    "\n",
    "packages_to_load <- c(\"rio\", \"sf\", \"terra\", \"tmap\")\n",
    "\n",
    "for ( package in packages_to_load ) {\n",
    "    # Check if package is already installed, if not, install and load the package\n",
    "    if (!require(package, character.only=T, quietly=T, warn.conflicts=F)) {\n",
    "        install.packages(package)\n",
    "        suppressPackageStartupMessages(library(package, character.only=T, quietly=T, warn.conflicts=F))\n",
    "    }\n",
    "}"
   ]
  },
  {
   "cell_type": "markdown",
   "id": "7027df3e-2d86-4aad-83ee-f75dd19769d0",
   "metadata": {},
   "source": [
    "<details>\n",
    "    \n",
    "<summary><span style='color:Green'> Note: For your own work, once packages are installed, it is recommended to just use library() to load your packages  </span></summary>\n",
    "\n",
    "\n",
    "```\n",
    "# General dataframe libraries\n",
    "library(rio)\n",
    "\n",
    "# Spatial data libraries\n",
    "library(sf)\n",
    "library(terra)\n",
    "\n",
    "# Plotting libraries\n",
    "library(tmap)\n",
    "```\n",
    "----\n",
    "          \n",
    "</details>\n"
   ]
  },
  {
   "cell_type": "markdown",
   "id": "6626ad96-4ded-476c-aef8-7c7f955a0d33",
   "metadata": {},
   "source": [
    "### Data\n",
    "\n",
    "In this example, we will use three datasets from the Minnesota Geospatial Commons, which have been downloaded, cleaned, transformed and saved in the directory `./data/MN` for this workshop.\n",
    "1. Minnesota Six-Inch Soil Temperature: https://gisdata.mn.gov/dataset/geos-soil-temp-network\n",
    "2. Groundwater Provinces of Minnesota 2021: https://gisdata.mn.gov/dataset/geos-groundwater-provinces-mn\n",
    "3. Cropland Data Layer 2020, Minnesota: https://gisdata.mn.gov/dataset/agri-cropland-data-layer-2020"
   ]
  },
  {
   "cell_type": "markdown",
   "id": "7442a96f-02a0-4eb1-b883-af9df6f8dce0",
   "metadata": {
    "tags": []
   },
   "source": [
    "<a id=\"Point\"></a>\n",
    "## **Working with Spatial Points Data in R**\n",
    "### Importing XY data\n",
    "\n",
    "Our first step is to read in the .csv file that contains our attribute data and geocordinates. For this example, we will be using the *Minnesota Six-Inch Soil Temperature* data. \n",
    "\n",
    "> The Minnesota Department of Agriculture (MDA) Six-Inch Soil Temperature Network provides real time soil temperatures at locations across Minnesota. The network was established to assist in following best management practices for fall nitrogen fertilizer application which refer to a soil temperature at a six-inch depth.\n",
    "\n",
    "For today's workshop, a random October 5, 2021 temperature has been added for illustrative purposes. We read in .csv data using the `rio` package."
   ]
  },
  {
   "cell_type": "code",
   "execution_count": 2,
   "id": "f51f6fb3-751e-404a-b624-dc8ec47aa24d",
   "metadata": {},
   "outputs": [
    {
     "data": {
      "text/html": [
       "<table class=\"dataframe\">\n",
       "<caption>A data.frame: 65 × 5</caption>\n",
       "<thead>\n",
       "\t<tr><th></th><th scope=col>source</th><th scope=col>x</th><th scope=col>y</th><th scope=col>name</th><th scope=col>temp_20211005</th></tr>\n",
       "\t<tr><th></th><th scope=col>&lt;chr&gt;</th><th scope=col>&lt;dbl&gt;</th><th scope=col>&lt;dbl&gt;</th><th scope=col>&lt;chr&gt;</th><th scope=col>&lt;dbl&gt;</th></tr>\n",
       "</thead>\n",
       "<tbody>\n",
       "\t<tr><th scope=row>1</th><td>MDA</td><td>-94.19423</td><td>44.20017</td><td>Judson                        </td><td>41.79259</td></tr>\n",
       "\t<tr><th scope=row>2</th><td>MDA</td><td>-95.42888</td><td>44.76222</td><td>Granite Falls                 </td><td>49.42997</td></tr>\n",
       "\t<tr><th scope=row>3</th><td>MDA</td><td>-93.26841</td><td>43.51400</td><td>Gordonsville                  </td><td>37.78381</td></tr>\n",
       "\t<tr><th scope=row>4</th><td>MDA</td><td>-94.35897</td><td>44.87780</td><td>Hutchinson                    </td><td>60.24301</td></tr>\n",
       "\t<tr><th scope=row>5</th><td>MDA</td><td>-96.30680</td><td>44.00319</td><td>Pipestone                     </td><td>58.48928</td></tr>\n",
       "\t<tr><th scope=row>6</th><td>MDA</td><td>-96.43726</td><td>43.77682</td><td>Jasper                        </td><td>46.85971</td></tr>\n",
       "\t<tr><th scope=row>7</th><td>MDA</td><td>-95.24493</td><td>44.23869</td><td>Lamberton                     </td><td>50.24598</td></tr>\n",
       "\t<tr><th scope=row>8</th><td>MDA</td><td>-95.95298</td><td>44.32180</td><td>Russell                       </td><td>55.86885</td></tr>\n",
       "\t<tr><th scope=row>9</th><td>MDA</td><td>-95.62489</td><td>45.31111</td><td>Benson                        </td><td>50.27298</td></tr>\n",
       "\t<tr><th scope=row>10</th><td>MDA</td><td>-96.05211</td><td>44.88481</td><td>Providence                    </td><td>40.94540</td></tr>\n",
       "\t<tr><th scope=row>11</th><td>MDA</td><td>-93.90068</td><td>44.52954</td><td>Henderson                     </td><td>61.74741</td></tr>\n",
       "\t<tr><th scope=row>12</th><td>MDA</td><td>-93.19343</td><td>44.10231</td><td>Owatonna                      </td><td>50.20103</td></tr>\n",
       "\t<tr><th scope=row>13</th><td>MDA</td><td>-96.41048</td><td>46.09531</td><td>Campbell                      </td><td>49.53425</td></tr>\n",
       "\t<tr><th scope=row>14</th><td>MDA</td><td>-94.50399</td><td>44.05675</td><td>LaSalle-Madelia               </td><td>52.61426</td></tr>\n",
       "\t<tr><th scope=row>15</th><td>MDA</td><td>-95.50693</td><td>43.94945</td><td>Des Moines river east of Avoca</td><td>55.82421</td></tr>\n",
       "\t<tr><th scope=row>16</th><td>MDA</td><td>-92.55823</td><td>43.97918</td><td>Rochester                     </td><td>35.18270</td></tr>\n",
       "\t<tr><th scope=row>17</th><td>MDA</td><td>-94.80639</td><td>44.22754</td><td>Leavenworth                   </td><td>60.58971</td></tr>\n",
       "\t<tr><th scope=row>18</th><td>MDA</td><td>-95.04749</td><td>44.58405</td><td>Beaver Falls                  </td><td>51.84432</td></tr>\n",
       "\t<tr><th scope=row>19</th><td>MDA</td><td>-93.44904</td><td>44.22860</td><td>Morristown                    </td><td>53.37833</td></tr>\n",
       "\t<tr><th scope=row>20</th><td>MDA</td><td>-94.10301</td><td>43.64940</td><td>Blue Earth                    </td><td>58.71004</td></tr>\n",
       "\t<tr><th scope=row>21</th><td>MDA</td><td>-96.20107</td><td>43.65413</td><td>Luverne                       </td><td>39.85842</td></tr>\n",
       "\t<tr><th scope=row>22</th><td>MDA</td><td>-94.09190</td><td>44.62258</td><td>Arlington                     </td><td>61.61787</td></tr>\n",
       "\t<tr><th scope=row>23</th><td>MDA</td><td>-94.69588</td><td>45.38459</td><td>Paynesville                   </td><td>59.10887</td></tr>\n",
       "\t<tr><th scope=row>24</th><td>MDA</td><td>-94.67528</td><td>44.93556</td><td>Cosmos                        </td><td>42.00139</td></tr>\n",
       "\t<tr><th scope=row>25</th><td>MDA</td><td>-93.96008</td><td>44.30746</td><td>St. Peter                     </td><td>41.34424</td></tr>\n",
       "\t<tr><th scope=row>26</th><td>MDA</td><td>-95.85712</td><td>45.74525</td><td>Hoffman                       </td><td>57.23682</td></tr>\n",
       "\t<tr><th scope=row>27</th><td>MDA</td><td>-96.40714</td><td>45.88989</td><td>Wheaton                       </td><td>44.42549</td></tr>\n",
       "\t<tr><th scope=row>28</th><td>MDA</td><td>-95.16030</td><td>45.71866</td><td>Westport                      </td><td>49.89159</td></tr>\n",
       "\t<tr><th scope=row>29</th><td>UMN</td><td>-95.31813</td><td>44.24030</td><td>U of M at Lamberton           </td><td>40.74571</td></tr>\n",
       "\t<tr><th scope=row>30</th><td>UMN</td><td>-93.52751</td><td>44.07751</td><td>U of M at Waseca              </td><td>47.34745</td></tr>\n",
       "\t<tr><th scope=row>⋮</th><td>⋮</td><td>⋮</td><td>⋮</td><td>⋮</td><td>⋮</td></tr>\n",
       "\t<tr><th scope=row>36</th><td>NDAWN</td><td>-95.85016</td><td>48.87774</td><td>Fox                                  </td><td>51.67864</td></tr>\n",
       "\t<tr><th scope=row>37</th><td>NDAWN</td><td>-96.32538</td><td>48.70370</td><td>Greenbush                            </td><td>42.07371</td></tr>\n",
       "\t<tr><th scope=row>38</th><td>NDAWN</td><td>-97.15028</td><td>48.88353</td><td>Humboldt                             </td><td>44.42599</td></tr>\n",
       "\t<tr><th scope=row>39</th><td>NDAWN</td><td>-97.04112</td><td>48.63671</td><td>Kennedy                              </td><td>52.47777</td></tr>\n",
       "\t<tr><th scope=row>40</th><td>NDAWN</td><td>-95.97130</td><td>48.12093</td><td>Mavie                                </td><td>37.83174</td></tr>\n",
       "\t<tr><th scope=row>41</th><td>NDAWN</td><td>-96.68972</td><td>47.18002</td><td>Perley                               </td><td>48.99010</td></tr>\n",
       "\t<tr><th scope=row>42</th><td>NDAWN</td><td>-95.73437</td><td>48.68517</td><td>Roseau                               </td><td>60.53151</td></tr>\n",
       "\t<tr><th scope=row>43</th><td>NDAWN</td><td>-96.61168</td><td>46.79439</td><td>Sabin                                </td><td>35.64509</td></tr>\n",
       "\t<tr><th scope=row>44</th><td>NDAWN</td><td>-96.85366</td><td>48.45673</td><td>Stephen                              </td><td>48.38471</td></tr>\n",
       "\t<tr><th scope=row>45</th><td>NDAWN</td><td>-96.10843</td><td>47.05047</td><td>Ulen                                 </td><td>59.82537</td></tr>\n",
       "\t<tr><th scope=row>46</th><td>NDAWN</td><td>-96.83897</td><td>48.13715</td><td>Warren                               </td><td>60.02469</td></tr>\n",
       "\t<tr><th scope=row>47</th><td>NDAWN</td><td>-96.13250</td><td>47.32586</td><td>Waukon                               </td><td>43.87099</td></tr>\n",
       "\t<tr><th scope=row>48</th><td>NDAWN</td><td>-94.98090</td><td>48.85845</td><td>Williams                             </td><td>48.94724</td></tr>\n",
       "\t<tr><th scope=row>49</th><td>NDAWN</td><td>-95.17252</td><td>45.71528</td><td>Rosholt Research Farm Weather Station</td><td>54.89252</td></tr>\n",
       "\t<tr><th scope=row>50</th><td>MDA  </td><td>-92.50930</td><td>43.63071</td><td>SRF Root River Station               </td><td>38.19335</td></tr>\n",
       "\t<tr><th scope=row>51</th><td>MDA  </td><td>-92.14939</td><td>43.54407</td><td>CFE Root River Station               </td><td>45.19948</td></tr>\n",
       "\t<tr><th scope=row>52</th><td>MDA  </td><td>-91.80022</td><td>43.72058</td><td>BCE Root River Station               </td><td>44.94292</td></tr>\n",
       "\t<tr><th scope=row>53</th><td>NDAWN</td><td>-93.85000</td><td>45.34430</td><td>U of M at Becker                     </td><td>43.33242</td></tr>\n",
       "\t<tr><th scope=row>54</th><td>NDAWN</td><td>-94.26180</td><td>45.79383</td><td>Rice                                 </td><td>42.90256</td></tr>\n",
       "\t<tr><th scope=row>55</th><td>NDAWN</td><td>-94.25140</td><td>45.93213</td><td>Little Falls                         </td><td>48.84028</td></tr>\n",
       "\t<tr><th scope=row>56</th><td>NDAWN</td><td>-94.90580</td><td>46.11156</td><td>Clarissa                             </td><td>53.84032</td></tr>\n",
       "\t<tr><th scope=row>57</th><td>NDAWN</td><td>-95.35600</td><td>46.16940</td><td>Parkers Prairie                      </td><td>38.22759</td></tr>\n",
       "\t<tr><th scope=row>58</th><td>NDAWN</td><td>-94.80870</td><td>46.38773</td><td>Staples                              </td><td>60.63687</td></tr>\n",
       "\t<tr><th scope=row>59</th><td>NDAWN</td><td>-95.57350</td><td>46.42643</td><td>Ottertail                            </td><td>51.56424</td></tr>\n",
       "\t<tr><th scope=row>60</th><td>NDAWN</td><td>-95.21420</td><td>46.44830</td><td>Wadena                               </td><td>36.76191</td></tr>\n",
       "\t<tr><th scope=row>61</th><td>NDAWN</td><td>-95.60188</td><td>46.61048</td><td>Perham                               </td><td>37.69791</td></tr>\n",
       "\t<tr><th scope=row>62</th><td>NDAWN</td><td>-94.99580</td><td>46.82059</td><td>Hubbard                              </td><td>48.81721</td></tr>\n",
       "\t<tr><th scope=row>63</th><td>NDAWN</td><td>-95.37170</td><td>47.01286</td><td>Pine Point                           </td><td>37.37180</td></tr>\n",
       "\t<tr><th scope=row>64</th><td>UMN  </td><td>-93.18000</td><td>44.99000</td><td>St. Paul Campus                      </td><td>53.01292</td></tr>\n",
       "\t<tr><th scope=row>65</th><td>NDAWN</td><td>-92.85984</td><td>44.68773</td><td>Hastings                             </td><td>62.64117</td></tr>\n",
       "</tbody>\n",
       "</table>\n"
      ],
      "text/latex": [
       "A data.frame: 65 × 5\n",
       "\\begin{tabular}{r|lllll}\n",
       "  & source & x & y & name & temp\\_20211005\\\\\n",
       "  & <chr> & <dbl> & <dbl> & <chr> & <dbl>\\\\\n",
       "\\hline\n",
       "\t1 & MDA & -94.19423 & 44.20017 & Judson                         & 41.79259\\\\\n",
       "\t2 & MDA & -95.42888 & 44.76222 & Granite Falls                  & 49.42997\\\\\n",
       "\t3 & MDA & -93.26841 & 43.51400 & Gordonsville                   & 37.78381\\\\\n",
       "\t4 & MDA & -94.35897 & 44.87780 & Hutchinson                     & 60.24301\\\\\n",
       "\t5 & MDA & -96.30680 & 44.00319 & Pipestone                      & 58.48928\\\\\n",
       "\t6 & MDA & -96.43726 & 43.77682 & Jasper                         & 46.85971\\\\\n",
       "\t7 & MDA & -95.24493 & 44.23869 & Lamberton                      & 50.24598\\\\\n",
       "\t8 & MDA & -95.95298 & 44.32180 & Russell                        & 55.86885\\\\\n",
       "\t9 & MDA & -95.62489 & 45.31111 & Benson                         & 50.27298\\\\\n",
       "\t10 & MDA & -96.05211 & 44.88481 & Providence                     & 40.94540\\\\\n",
       "\t11 & MDA & -93.90068 & 44.52954 & Henderson                      & 61.74741\\\\\n",
       "\t12 & MDA & -93.19343 & 44.10231 & Owatonna                       & 50.20103\\\\\n",
       "\t13 & MDA & -96.41048 & 46.09531 & Campbell                       & 49.53425\\\\\n",
       "\t14 & MDA & -94.50399 & 44.05675 & LaSalle-Madelia                & 52.61426\\\\\n",
       "\t15 & MDA & -95.50693 & 43.94945 & Des Moines river east of Avoca & 55.82421\\\\\n",
       "\t16 & MDA & -92.55823 & 43.97918 & Rochester                      & 35.18270\\\\\n",
       "\t17 & MDA & -94.80639 & 44.22754 & Leavenworth                    & 60.58971\\\\\n",
       "\t18 & MDA & -95.04749 & 44.58405 & Beaver Falls                   & 51.84432\\\\\n",
       "\t19 & MDA & -93.44904 & 44.22860 & Morristown                     & 53.37833\\\\\n",
       "\t20 & MDA & -94.10301 & 43.64940 & Blue Earth                     & 58.71004\\\\\n",
       "\t21 & MDA & -96.20107 & 43.65413 & Luverne                        & 39.85842\\\\\n",
       "\t22 & MDA & -94.09190 & 44.62258 & Arlington                      & 61.61787\\\\\n",
       "\t23 & MDA & -94.69588 & 45.38459 & Paynesville                    & 59.10887\\\\\n",
       "\t24 & MDA & -94.67528 & 44.93556 & Cosmos                         & 42.00139\\\\\n",
       "\t25 & MDA & -93.96008 & 44.30746 & St. Peter                      & 41.34424\\\\\n",
       "\t26 & MDA & -95.85712 & 45.74525 & Hoffman                        & 57.23682\\\\\n",
       "\t27 & MDA & -96.40714 & 45.88989 & Wheaton                        & 44.42549\\\\\n",
       "\t28 & MDA & -95.16030 & 45.71866 & Westport                       & 49.89159\\\\\n",
       "\t29 & UMN & -95.31813 & 44.24030 & U of M at Lamberton            & 40.74571\\\\\n",
       "\t30 & UMN & -93.52751 & 44.07751 & U of M at Waseca               & 47.34745\\\\\n",
       "\t⋮ & ⋮ & ⋮ & ⋮ & ⋮ & ⋮\\\\\n",
       "\t36 & NDAWN & -95.85016 & 48.87774 & Fox                                   & 51.67864\\\\\n",
       "\t37 & NDAWN & -96.32538 & 48.70370 & Greenbush                             & 42.07371\\\\\n",
       "\t38 & NDAWN & -97.15028 & 48.88353 & Humboldt                              & 44.42599\\\\\n",
       "\t39 & NDAWN & -97.04112 & 48.63671 & Kennedy                               & 52.47777\\\\\n",
       "\t40 & NDAWN & -95.97130 & 48.12093 & Mavie                                 & 37.83174\\\\\n",
       "\t41 & NDAWN & -96.68972 & 47.18002 & Perley                                & 48.99010\\\\\n",
       "\t42 & NDAWN & -95.73437 & 48.68517 & Roseau                                & 60.53151\\\\\n",
       "\t43 & NDAWN & -96.61168 & 46.79439 & Sabin                                 & 35.64509\\\\\n",
       "\t44 & NDAWN & -96.85366 & 48.45673 & Stephen                               & 48.38471\\\\\n",
       "\t45 & NDAWN & -96.10843 & 47.05047 & Ulen                                  & 59.82537\\\\\n",
       "\t46 & NDAWN & -96.83897 & 48.13715 & Warren                                & 60.02469\\\\\n",
       "\t47 & NDAWN & -96.13250 & 47.32586 & Waukon                                & 43.87099\\\\\n",
       "\t48 & NDAWN & -94.98090 & 48.85845 & Williams                              & 48.94724\\\\\n",
       "\t49 & NDAWN & -95.17252 & 45.71528 & Rosholt Research Farm Weather Station & 54.89252\\\\\n",
       "\t50 & MDA   & -92.50930 & 43.63071 & SRF Root River Station                & 38.19335\\\\\n",
       "\t51 & MDA   & -92.14939 & 43.54407 & CFE Root River Station                & 45.19948\\\\\n",
       "\t52 & MDA   & -91.80022 & 43.72058 & BCE Root River Station                & 44.94292\\\\\n",
       "\t53 & NDAWN & -93.85000 & 45.34430 & U of M at Becker                      & 43.33242\\\\\n",
       "\t54 & NDAWN & -94.26180 & 45.79383 & Rice                                  & 42.90256\\\\\n",
       "\t55 & NDAWN & -94.25140 & 45.93213 & Little Falls                          & 48.84028\\\\\n",
       "\t56 & NDAWN & -94.90580 & 46.11156 & Clarissa                              & 53.84032\\\\\n",
       "\t57 & NDAWN & -95.35600 & 46.16940 & Parkers Prairie                       & 38.22759\\\\\n",
       "\t58 & NDAWN & -94.80870 & 46.38773 & Staples                               & 60.63687\\\\\n",
       "\t59 & NDAWN & -95.57350 & 46.42643 & Ottertail                             & 51.56424\\\\\n",
       "\t60 & NDAWN & -95.21420 & 46.44830 & Wadena                                & 36.76191\\\\\n",
       "\t61 & NDAWN & -95.60188 & 46.61048 & Perham                                & 37.69791\\\\\n",
       "\t62 & NDAWN & -94.99580 & 46.82059 & Hubbard                               & 48.81721\\\\\n",
       "\t63 & NDAWN & -95.37170 & 47.01286 & Pine Point                            & 37.37180\\\\\n",
       "\t64 & UMN   & -93.18000 & 44.99000 & St. Paul Campus                       & 53.01292\\\\\n",
       "\t65 & NDAWN & -92.85984 & 44.68773 & Hastings                              & 62.64117\\\\\n",
       "\\end{tabular}\n"
      ],
      "text/markdown": [
       "\n",
       "A data.frame: 65 × 5\n",
       "\n",
       "| <!--/--> | source &lt;chr&gt; | x &lt;dbl&gt; | y &lt;dbl&gt; | name &lt;chr&gt; | temp_20211005 &lt;dbl&gt; |\n",
       "|---|---|---|---|---|---|\n",
       "| 1 | MDA | -94.19423 | 44.20017 | Judson                         | 41.79259 |\n",
       "| 2 | MDA | -95.42888 | 44.76222 | Granite Falls                  | 49.42997 |\n",
       "| 3 | MDA | -93.26841 | 43.51400 | Gordonsville                   | 37.78381 |\n",
       "| 4 | MDA | -94.35897 | 44.87780 | Hutchinson                     | 60.24301 |\n",
       "| 5 | MDA | -96.30680 | 44.00319 | Pipestone                      | 58.48928 |\n",
       "| 6 | MDA | -96.43726 | 43.77682 | Jasper                         | 46.85971 |\n",
       "| 7 | MDA | -95.24493 | 44.23869 | Lamberton                      | 50.24598 |\n",
       "| 8 | MDA | -95.95298 | 44.32180 | Russell                        | 55.86885 |\n",
       "| 9 | MDA | -95.62489 | 45.31111 | Benson                         | 50.27298 |\n",
       "| 10 | MDA | -96.05211 | 44.88481 | Providence                     | 40.94540 |\n",
       "| 11 | MDA | -93.90068 | 44.52954 | Henderson                      | 61.74741 |\n",
       "| 12 | MDA | -93.19343 | 44.10231 | Owatonna                       | 50.20103 |\n",
       "| 13 | MDA | -96.41048 | 46.09531 | Campbell                       | 49.53425 |\n",
       "| 14 | MDA | -94.50399 | 44.05675 | LaSalle-Madelia                | 52.61426 |\n",
       "| 15 | MDA | -95.50693 | 43.94945 | Des Moines river east of Avoca | 55.82421 |\n",
       "| 16 | MDA | -92.55823 | 43.97918 | Rochester                      | 35.18270 |\n",
       "| 17 | MDA | -94.80639 | 44.22754 | Leavenworth                    | 60.58971 |\n",
       "| 18 | MDA | -95.04749 | 44.58405 | Beaver Falls                   | 51.84432 |\n",
       "| 19 | MDA | -93.44904 | 44.22860 | Morristown                     | 53.37833 |\n",
       "| 20 | MDA | -94.10301 | 43.64940 | Blue Earth                     | 58.71004 |\n",
       "| 21 | MDA | -96.20107 | 43.65413 | Luverne                        | 39.85842 |\n",
       "| 22 | MDA | -94.09190 | 44.62258 | Arlington                      | 61.61787 |\n",
       "| 23 | MDA | -94.69588 | 45.38459 | Paynesville                    | 59.10887 |\n",
       "| 24 | MDA | -94.67528 | 44.93556 | Cosmos                         | 42.00139 |\n",
       "| 25 | MDA | -93.96008 | 44.30746 | St. Peter                      | 41.34424 |\n",
       "| 26 | MDA | -95.85712 | 45.74525 | Hoffman                        | 57.23682 |\n",
       "| 27 | MDA | -96.40714 | 45.88989 | Wheaton                        | 44.42549 |\n",
       "| 28 | MDA | -95.16030 | 45.71866 | Westport                       | 49.89159 |\n",
       "| 29 | UMN | -95.31813 | 44.24030 | U of M at Lamberton            | 40.74571 |\n",
       "| 30 | UMN | -93.52751 | 44.07751 | U of M at Waseca               | 47.34745 |\n",
       "| ⋮ | ⋮ | ⋮ | ⋮ | ⋮ | ⋮ |\n",
       "| 36 | NDAWN | -95.85016 | 48.87774 | Fox                                   | 51.67864 |\n",
       "| 37 | NDAWN | -96.32538 | 48.70370 | Greenbush                             | 42.07371 |\n",
       "| 38 | NDAWN | -97.15028 | 48.88353 | Humboldt                              | 44.42599 |\n",
       "| 39 | NDAWN | -97.04112 | 48.63671 | Kennedy                               | 52.47777 |\n",
       "| 40 | NDAWN | -95.97130 | 48.12093 | Mavie                                 | 37.83174 |\n",
       "| 41 | NDAWN | -96.68972 | 47.18002 | Perley                                | 48.99010 |\n",
       "| 42 | NDAWN | -95.73437 | 48.68517 | Roseau                                | 60.53151 |\n",
       "| 43 | NDAWN | -96.61168 | 46.79439 | Sabin                                 | 35.64509 |\n",
       "| 44 | NDAWN | -96.85366 | 48.45673 | Stephen                               | 48.38471 |\n",
       "| 45 | NDAWN | -96.10843 | 47.05047 | Ulen                                  | 59.82537 |\n",
       "| 46 | NDAWN | -96.83897 | 48.13715 | Warren                                | 60.02469 |\n",
       "| 47 | NDAWN | -96.13250 | 47.32586 | Waukon                                | 43.87099 |\n",
       "| 48 | NDAWN | -94.98090 | 48.85845 | Williams                              | 48.94724 |\n",
       "| 49 | NDAWN | -95.17252 | 45.71528 | Rosholt Research Farm Weather Station | 54.89252 |\n",
       "| 50 | MDA   | -92.50930 | 43.63071 | SRF Root River Station                | 38.19335 |\n",
       "| 51 | MDA   | -92.14939 | 43.54407 | CFE Root River Station                | 45.19948 |\n",
       "| 52 | MDA   | -91.80022 | 43.72058 | BCE Root River Station                | 44.94292 |\n",
       "| 53 | NDAWN | -93.85000 | 45.34430 | U of M at Becker                      | 43.33242 |\n",
       "| 54 | NDAWN | -94.26180 | 45.79383 | Rice                                  | 42.90256 |\n",
       "| 55 | NDAWN | -94.25140 | 45.93213 | Little Falls                          | 48.84028 |\n",
       "| 56 | NDAWN | -94.90580 | 46.11156 | Clarissa                              | 53.84032 |\n",
       "| 57 | NDAWN | -95.35600 | 46.16940 | Parkers Prairie                       | 38.22759 |\n",
       "| 58 | NDAWN | -94.80870 | 46.38773 | Staples                               | 60.63687 |\n",
       "| 59 | NDAWN | -95.57350 | 46.42643 | Ottertail                             | 51.56424 |\n",
       "| 60 | NDAWN | -95.21420 | 46.44830 | Wadena                                | 36.76191 |\n",
       "| 61 | NDAWN | -95.60188 | 46.61048 | Perham                                | 37.69791 |\n",
       "| 62 | NDAWN | -94.99580 | 46.82059 | Hubbard                               | 48.81721 |\n",
       "| 63 | NDAWN | -95.37170 | 47.01286 | Pine Point                            | 37.37180 |\n",
       "| 64 | UMN   | -93.18000 | 44.99000 | St. Paul Campus                       | 53.01292 |\n",
       "| 65 | NDAWN | -92.85984 | 44.68773 | Hastings                              | 62.64117 |\n",
       "\n"
      ],
      "text/plain": [
       "   source x         y        name                                 \n",
       "1  MDA    -94.19423 44.20017 Judson                               \n",
       "2  MDA    -95.42888 44.76222 Granite Falls                        \n",
       "3  MDA    -93.26841 43.51400 Gordonsville                         \n",
       "4  MDA    -94.35897 44.87780 Hutchinson                           \n",
       "5  MDA    -96.30680 44.00319 Pipestone                            \n",
       "6  MDA    -96.43726 43.77682 Jasper                               \n",
       "7  MDA    -95.24493 44.23869 Lamberton                            \n",
       "8  MDA    -95.95298 44.32180 Russell                              \n",
       "9  MDA    -95.62489 45.31111 Benson                               \n",
       "10 MDA    -96.05211 44.88481 Providence                           \n",
       "11 MDA    -93.90068 44.52954 Henderson                            \n",
       "12 MDA    -93.19343 44.10231 Owatonna                             \n",
       "13 MDA    -96.41048 46.09531 Campbell                             \n",
       "14 MDA    -94.50399 44.05675 LaSalle-Madelia                      \n",
       "15 MDA    -95.50693 43.94945 Des Moines river east of Avoca       \n",
       "16 MDA    -92.55823 43.97918 Rochester                            \n",
       "17 MDA    -94.80639 44.22754 Leavenworth                          \n",
       "18 MDA    -95.04749 44.58405 Beaver Falls                         \n",
       "19 MDA    -93.44904 44.22860 Morristown                           \n",
       "20 MDA    -94.10301 43.64940 Blue Earth                           \n",
       "21 MDA    -96.20107 43.65413 Luverne                              \n",
       "22 MDA    -94.09190 44.62258 Arlington                            \n",
       "23 MDA    -94.69588 45.38459 Paynesville                          \n",
       "24 MDA    -94.67528 44.93556 Cosmos                               \n",
       "25 MDA    -93.96008 44.30746 St. Peter                            \n",
       "26 MDA    -95.85712 45.74525 Hoffman                              \n",
       "27 MDA    -96.40714 45.88989 Wheaton                              \n",
       "28 MDA    -95.16030 45.71866 Westport                             \n",
       "29 UMN    -95.31813 44.24030 U of M at Lamberton                  \n",
       "30 UMN    -93.52751 44.07751 U of M at Waseca                     \n",
       "⋮  ⋮      ⋮         ⋮        ⋮                                    \n",
       "36 NDAWN  -95.85016 48.87774 Fox                                  \n",
       "37 NDAWN  -96.32538 48.70370 Greenbush                            \n",
       "38 NDAWN  -97.15028 48.88353 Humboldt                             \n",
       "39 NDAWN  -97.04112 48.63671 Kennedy                              \n",
       "40 NDAWN  -95.97130 48.12093 Mavie                                \n",
       "41 NDAWN  -96.68972 47.18002 Perley                               \n",
       "42 NDAWN  -95.73437 48.68517 Roseau                               \n",
       "43 NDAWN  -96.61168 46.79439 Sabin                                \n",
       "44 NDAWN  -96.85366 48.45673 Stephen                              \n",
       "45 NDAWN  -96.10843 47.05047 Ulen                                 \n",
       "46 NDAWN  -96.83897 48.13715 Warren                               \n",
       "47 NDAWN  -96.13250 47.32586 Waukon                               \n",
       "48 NDAWN  -94.98090 48.85845 Williams                             \n",
       "49 NDAWN  -95.17252 45.71528 Rosholt Research Farm Weather Station\n",
       "50 MDA    -92.50930 43.63071 SRF Root River Station               \n",
       "51 MDA    -92.14939 43.54407 CFE Root River Station               \n",
       "52 MDA    -91.80022 43.72058 BCE Root River Station               \n",
       "53 NDAWN  -93.85000 45.34430 U of M at Becker                     \n",
       "54 NDAWN  -94.26180 45.79383 Rice                                 \n",
       "55 NDAWN  -94.25140 45.93213 Little Falls                         \n",
       "56 NDAWN  -94.90580 46.11156 Clarissa                             \n",
       "57 NDAWN  -95.35600 46.16940 Parkers Prairie                      \n",
       "58 NDAWN  -94.80870 46.38773 Staples                              \n",
       "59 NDAWN  -95.57350 46.42643 Ottertail                            \n",
       "60 NDAWN  -95.21420 46.44830 Wadena                               \n",
       "61 NDAWN  -95.60188 46.61048 Perham                               \n",
       "62 NDAWN  -94.99580 46.82059 Hubbard                              \n",
       "63 NDAWN  -95.37170 47.01286 Pine Point                           \n",
       "64 UMN    -93.18000 44.99000 St. Paul Campus                      \n",
       "65 NDAWN  -92.85984 44.68773 Hastings                             \n",
       "   temp_20211005\n",
       "1  41.79259     \n",
       "2  49.42997     \n",
       "3  37.78381     \n",
       "4  60.24301     \n",
       "5  58.48928     \n",
       "6  46.85971     \n",
       "7  50.24598     \n",
       "8  55.86885     \n",
       "9  50.27298     \n",
       "10 40.94540     \n",
       "11 61.74741     \n",
       "12 50.20103     \n",
       "13 49.53425     \n",
       "14 52.61426     \n",
       "15 55.82421     \n",
       "16 35.18270     \n",
       "17 60.58971     \n",
       "18 51.84432     \n",
       "19 53.37833     \n",
       "20 58.71004     \n",
       "21 39.85842     \n",
       "22 61.61787     \n",
       "23 59.10887     \n",
       "24 42.00139     \n",
       "25 41.34424     \n",
       "26 57.23682     \n",
       "27 44.42549     \n",
       "28 49.89159     \n",
       "29 40.74571     \n",
       "30 47.34745     \n",
       "⋮  ⋮            \n",
       "36 51.67864     \n",
       "37 42.07371     \n",
       "38 44.42599     \n",
       "39 52.47777     \n",
       "40 37.83174     \n",
       "41 48.99010     \n",
       "42 60.53151     \n",
       "43 35.64509     \n",
       "44 48.38471     \n",
       "45 59.82537     \n",
       "46 60.02469     \n",
       "47 43.87099     \n",
       "48 48.94724     \n",
       "49 54.89252     \n",
       "50 38.19335     \n",
       "51 45.19948     \n",
       "52 44.94292     \n",
       "53 43.33242     \n",
       "54 42.90256     \n",
       "55 48.84028     \n",
       "56 53.84032     \n",
       "57 38.22759     \n",
       "58 60.63687     \n",
       "59 51.56424     \n",
       "60 36.76191     \n",
       "61 37.69791     \n",
       "62 48.81721     \n",
       "63 37.37180     \n",
       "64 53.01292     \n",
       "65 62.64117     "
      ]
     },
     "metadata": {},
     "output_type": "display_data"
    }
   ],
   "source": [
    "soil_samp <- import(\"./data/MN/soil_samp/soil_samp_2021-10-05.csv\")\n",
    "soil_samp"
   ]
  },
  {
   "cell_type": "markdown",
   "id": "b32fd09c-f0ff-4363-8dc3-b3fe4bf3b113",
   "metadata": {},
   "source": [
    "### Converting to `sf` Object\n",
    "\n",
    "After identifying the longitude (x) and latitude (y) coordinates, we convert the *xy* data to an `sf` object using `st_as_sf`."
   ]
  },
  {
   "cell_type": "code",
   "execution_count": 3,
   "id": "bf17761f-5143-44f1-8c8a-169c5e1104ae",
   "metadata": {},
   "outputs": [
    {
     "name": "stderr",
     "output_type": "stream",
     "text": [
      "Registered S3 method overwritten by 'geojsonsf':\n",
      "  method        from   \n",
      "  print.geojson geojson\n",
      "\n"
     ]
    },
    {
     "data": {
      "application/geo+json": {
       "features": [
        {
         "geometry": {
          "coordinates": [
           -94.1942,
           44.2002
          ],
          "type": "Point"
         },
         "properties": {
          "name": "Judson",
          "source": "MDA",
          "temp_20211005": 41.7926
         },
         "type": "Feature"
        },
        {
         "geometry": {
          "coordinates": [
           -95.4289,
           44.7622
          ],
          "type": "Point"
         },
         "properties": {
          "name": "Granite Falls",
          "source": "MDA",
          "temp_20211005": 49.43
         },
         "type": "Feature"
        },
        {
         "geometry": {
          "coordinates": [
           -93.2684,
           43.514
          ],
          "type": "Point"
         },
         "properties": {
          "name": "Gordonsville",
          "source": "MDA",
          "temp_20211005": 37.7838
         },
         "type": "Feature"
        },
        {
         "geometry": {
          "coordinates": [
           -94.359,
           44.8778
          ],
          "type": "Point"
         },
         "properties": {
          "name": "Hutchinson",
          "source": "MDA",
          "temp_20211005": 60.243
         },
         "type": "Feature"
        },
        {
         "geometry": {
          "coordinates": [
           -96.3068,
           44.0032
          ],
          "type": "Point"
         },
         "properties": {
          "name": "Pipestone",
          "source": "MDA",
          "temp_20211005": 58.4893
         },
         "type": "Feature"
        },
        {
         "geometry": {
          "coordinates": [
           -96.4373,
           43.7768
          ],
          "type": "Point"
         },
         "properties": {
          "name": "Jasper",
          "source": "MDA",
          "temp_20211005": 46.8597
         },
         "type": "Feature"
        }
       ],
       "type": "FeatureCollection"
      },
      "text/html": [
       "<table class=\"dataframe\">\n",
       "<caption>A sf: 6 × 4</caption>\n",
       "<thead>\n",
       "\t<tr><th></th><th scope=col>source</th><th scope=col>name</th><th scope=col>temp_20211005</th><th scope=col>geometry</th></tr>\n",
       "\t<tr><th></th><th scope=col>&lt;chr&gt;</th><th scope=col>&lt;chr&gt;</th><th scope=col>&lt;dbl&gt;</th><th scope=col>&lt;POINT&gt;</th></tr>\n",
       "</thead>\n",
       "<tbody>\n",
       "\t<tr><th scope=row>1</th><td>MDA</td><td>Judson       </td><td>41.79259</td><td>POINT (-94.19423 44.20017)</td></tr>\n",
       "\t<tr><th scope=row>2</th><td>MDA</td><td>Granite Falls</td><td>49.42997</td><td>POINT (-95.42888 44.76222)</td></tr>\n",
       "\t<tr><th scope=row>3</th><td>MDA</td><td>Gordonsville </td><td>37.78381</td><td>POINT (-93.26841 43.514)</td></tr>\n",
       "\t<tr><th scope=row>4</th><td>MDA</td><td>Hutchinson   </td><td>60.24301</td><td>POINT (-94.35897 44.8778)</td></tr>\n",
       "\t<tr><th scope=row>5</th><td>MDA</td><td>Pipestone    </td><td>58.48928</td><td>POINT (-96.3068 44.00319)</td></tr>\n",
       "\t<tr><th scope=row>6</th><td>MDA</td><td>Jasper       </td><td>46.85971</td><td>POINT (-96.43726 43.77682)</td></tr>\n",
       "</tbody>\n",
       "</table>\n"
      ],
      "text/latex": [
       "A sf: 6 × 4\n",
       "\\begin{tabular}{r|llll}\n",
       "  & source & name & temp\\_20211005 & geometry\\\\\n",
       "  & <chr> & <chr> & <dbl> & <POINT>\\\\\n",
       "\\hline\n",
       "\t1 & MDA & Judson        & 41.79259 & POINT (-94.19423 44.20017)\\\\\n",
       "\t2 & MDA & Granite Falls & 49.42997 & POINT (-95.42888 44.76222)\\\\\n",
       "\t3 & MDA & Gordonsville  & 37.78381 & POINT (-93.26841 43.514)\\\\\n",
       "\t4 & MDA & Hutchinson    & 60.24301 & POINT (-94.35897 44.8778)\\\\\n",
       "\t5 & MDA & Pipestone     & 58.48928 & POINT (-96.3068 44.00319)\\\\\n",
       "\t6 & MDA & Jasper        & 46.85971 & POINT (-96.43726 43.77682)\\\\\n",
       "\\end{tabular}\n"
      ],
      "text/markdown": [
       "\n",
       "A sf: 6 × 4\n",
       "\n",
       "| <!--/--> | source &lt;chr&gt; | name &lt;chr&gt; | temp_20211005 &lt;dbl&gt; | geometry &lt;POINT&gt; |\n",
       "|---|---|---|---|---|\n",
       "| 1 | MDA | Judson        | 41.79259 | POINT (-94.19423 44.20017) |\n",
       "| 2 | MDA | Granite Falls | 49.42997 | POINT (-95.42888 44.76222) |\n",
       "| 3 | MDA | Gordonsville  | 37.78381 | POINT (-93.26841 43.514) |\n",
       "| 4 | MDA | Hutchinson    | 60.24301 | POINT (-94.35897 44.8778) |\n",
       "| 5 | MDA | Pipestone     | 58.48928 | POINT (-96.3068 44.00319) |\n",
       "| 6 | MDA | Jasper        | 46.85971 | POINT (-96.43726 43.77682) |\n",
       "\n"
      ],
      "text/plain": [
       "  source name          temp_20211005 geometry                  \n",
       "1 MDA    Judson        41.79259      POINT (-94.19423 44.20017)\n",
       "2 MDA    Granite Falls 49.42997      POINT (-95.42888 44.76222)\n",
       "3 MDA    Gordonsville  37.78381      POINT (-93.26841 43.514)  \n",
       "4 MDA    Hutchinson    60.24301      POINT (-94.35897 44.8778) \n",
       "5 MDA    Pipestone     58.48928      POINT (-96.3068 44.00319) \n",
       "6 MDA    Jasper        46.85971      POINT (-96.43726 43.77682)"
      ]
     },
     "metadata": {},
     "output_type": "display_data"
    },
    {
     "data": {
      "text/plain": [
       "Coordinate Reference System:\n",
       "  User input: EPSG:4326 \n",
       "  wkt:\n",
       "GEOGCRS[\"WGS 84\",\n",
       "    ENSEMBLE[\"World Geodetic System 1984 ensemble\",\n",
       "        MEMBER[\"World Geodetic System 1984 (Transit)\"],\n",
       "        MEMBER[\"World Geodetic System 1984 (G730)\"],\n",
       "        MEMBER[\"World Geodetic System 1984 (G873)\"],\n",
       "        MEMBER[\"World Geodetic System 1984 (G1150)\"],\n",
       "        MEMBER[\"World Geodetic System 1984 (G1674)\"],\n",
       "        MEMBER[\"World Geodetic System 1984 (G1762)\"],\n",
       "        MEMBER[\"World Geodetic System 1984 (G2139)\"],\n",
       "        ELLIPSOID[\"WGS 84\",6378137,298.257223563,\n",
       "            LENGTHUNIT[\"metre\",1]],\n",
       "        ENSEMBLEACCURACY[2.0]],\n",
       "    PRIMEM[\"Greenwich\",0,\n",
       "        ANGLEUNIT[\"degree\",0.0174532925199433]],\n",
       "    CS[ellipsoidal,2],\n",
       "        AXIS[\"geodetic latitude (Lat)\",north,\n",
       "            ORDER[1],\n",
       "            ANGLEUNIT[\"degree\",0.0174532925199433]],\n",
       "        AXIS[\"geodetic longitude (Lon)\",east,\n",
       "            ORDER[2],\n",
       "            ANGLEUNIT[\"degree\",0.0174532925199433]],\n",
       "    USAGE[\n",
       "        SCOPE[\"Horizontal component of 3D system.\"],\n",
       "        AREA[\"World.\"],\n",
       "        BBOX[-90,-180,90,180]],\n",
       "    ID[\"EPSG\",4326]]"
      ]
     },
     "metadata": {},
     "output_type": "display_data"
    }
   ],
   "source": [
    "#soil_samp <- st_as_sf(soil_samp, coords = c(\"x\",\"y\"))\n",
    "soil_samp <- st_as_sf(soil_samp, coords = c(\"x\",\"y\"))\n",
    "head(soil_samp)\n",
    "st_crs(soil_samp) = 4326\n",
    "st_crs(soil_samp)"
   ]
  },
  {
   "cell_type": "markdown",
   "id": "0ab0ba2a-44df-4bed-8c3a-d3ad1abce8fa",
   "metadata": {},
   "source": [
    "We're setting the coordinate reference system (crs) to WGS84. This is represented by the European Petroleum Survey Group (EPSG) Code: 4326"
   ]
  },
  {
   "cell_type": "markdown",
   "id": "c7476711-ef93-4ae9-b356-d6f5ddf0a6eb",
   "metadata": {},
   "source": [
    "### Summarizing Point Data"
   ]
  },
  {
   "cell_type": "code",
   "execution_count": 4,
   "id": "bfdf73a9-ee85-4636-8e88-b30e706b77ce",
   "metadata": {},
   "outputs": [
    {
     "data": {
      "application/geo+json": {
       "features": [
        {
         "geometry": {
          "coordinates": [
           -94.1942,
           44.2002
          ],
          "type": "Point"
         },
         "properties": {
          "name": "Judson",
          "source": "MDA",
          "temp_20211005": 41.7926
         },
         "type": "Feature"
        },
        {
         "geometry": {
          "coordinates": [
           -95.4289,
           44.7622
          ],
          "type": "Point"
         },
         "properties": {
          "name": "Granite Falls",
          "source": "MDA",
          "temp_20211005": 49.43
         },
         "type": "Feature"
        },
        {
         "geometry": {
          "coordinates": [
           -93.2684,
           43.514
          ],
          "type": "Point"
         },
         "properties": {
          "name": "Gordonsville",
          "source": "MDA",
          "temp_20211005": 37.7838
         },
         "type": "Feature"
        },
        {
         "geometry": {
          "coordinates": [
           -94.359,
           44.8778
          ],
          "type": "Point"
         },
         "properties": {
          "name": "Hutchinson",
          "source": "MDA",
          "temp_20211005": 60.243
         },
         "type": "Feature"
        },
        {
         "geometry": {
          "coordinates": [
           -96.3068,
           44.0032
          ],
          "type": "Point"
         },
         "properties": {
          "name": "Pipestone",
          "source": "MDA",
          "temp_20211005": 58.4893
         },
         "type": "Feature"
        },
        {
         "geometry": {
          "coordinates": [
           -96.4373,
           43.7768
          ],
          "type": "Point"
         },
         "properties": {
          "name": "Jasper",
          "source": "MDA",
          "temp_20211005": 46.8597
         },
         "type": "Feature"
        }
       ],
       "type": "FeatureCollection"
      },
      "text/html": [
       "<table class=\"dataframe\">\n",
       "<caption>A sf: 6 × 4</caption>\n",
       "<thead>\n",
       "\t<tr><th></th><th scope=col>source</th><th scope=col>name</th><th scope=col>temp_20211005</th><th scope=col>geometry</th></tr>\n",
       "\t<tr><th></th><th scope=col>&lt;chr&gt;</th><th scope=col>&lt;chr&gt;</th><th scope=col>&lt;dbl&gt;</th><th scope=col>&lt;POINT [°]&gt;</th></tr>\n",
       "</thead>\n",
       "<tbody>\n",
       "\t<tr><th scope=row>1</th><td>MDA</td><td>Judson       </td><td>41.79259</td><td>POINT (-94.19423 44.20017)</td></tr>\n",
       "\t<tr><th scope=row>2</th><td>MDA</td><td>Granite Falls</td><td>49.42997</td><td>POINT (-95.42888 44.76222)</td></tr>\n",
       "\t<tr><th scope=row>3</th><td>MDA</td><td>Gordonsville </td><td>37.78381</td><td>POINT (-93.26841 43.514)</td></tr>\n",
       "\t<tr><th scope=row>4</th><td>MDA</td><td>Hutchinson   </td><td>60.24301</td><td>POINT (-94.35897 44.8778)</td></tr>\n",
       "\t<tr><th scope=row>5</th><td>MDA</td><td>Pipestone    </td><td>58.48928</td><td>POINT (-96.3068 44.00319)</td></tr>\n",
       "\t<tr><th scope=row>6</th><td>MDA</td><td>Jasper       </td><td>46.85971</td><td>POINT (-96.43726 43.77682)</td></tr>\n",
       "</tbody>\n",
       "</table>\n"
      ],
      "text/latex": [
       "A sf: 6 × 4\n",
       "\\begin{tabular}{r|llll}\n",
       "  & source & name & temp\\_20211005 & geometry\\\\\n",
       "  & <chr> & <chr> & <dbl> & <POINT {[}°{]}>\\\\\n",
       "\\hline\n",
       "\t1 & MDA & Judson        & 41.79259 & POINT (-94.19423 44.20017)\\\\\n",
       "\t2 & MDA & Granite Falls & 49.42997 & POINT (-95.42888 44.76222)\\\\\n",
       "\t3 & MDA & Gordonsville  & 37.78381 & POINT (-93.26841 43.514)\\\\\n",
       "\t4 & MDA & Hutchinson    & 60.24301 & POINT (-94.35897 44.8778)\\\\\n",
       "\t5 & MDA & Pipestone     & 58.48928 & POINT (-96.3068 44.00319)\\\\\n",
       "\t6 & MDA & Jasper        & 46.85971 & POINT (-96.43726 43.77682)\\\\\n",
       "\\end{tabular}\n"
      ],
      "text/markdown": [
       "\n",
       "A sf: 6 × 4\n",
       "\n",
       "| <!--/--> | source &lt;chr&gt; | name &lt;chr&gt; | temp_20211005 &lt;dbl&gt; | geometry &lt;POINT [°]&gt; |\n",
       "|---|---|---|---|---|\n",
       "| 1 | MDA | Judson        | 41.79259 | POINT (-94.19423 44.20017) |\n",
       "| 2 | MDA | Granite Falls | 49.42997 | POINT (-95.42888 44.76222) |\n",
       "| 3 | MDA | Gordonsville  | 37.78381 | POINT (-93.26841 43.514) |\n",
       "| 4 | MDA | Hutchinson    | 60.24301 | POINT (-94.35897 44.8778) |\n",
       "| 5 | MDA | Pipestone     | 58.48928 | POINT (-96.3068 44.00319) |\n",
       "| 6 | MDA | Jasper        | 46.85971 | POINT (-96.43726 43.77682) |\n",
       "\n"
      ],
      "text/plain": [
       "  source name          temp_20211005 geometry                  \n",
       "1 MDA    Judson        41.79259      POINT (-94.19423 44.20017)\n",
       "2 MDA    Granite Falls 49.42997      POINT (-95.42888 44.76222)\n",
       "3 MDA    Gordonsville  37.78381      POINT (-93.26841 43.514)  \n",
       "4 MDA    Hutchinson    60.24301      POINT (-94.35897 44.8778) \n",
       "5 MDA    Pipestone     58.48928      POINT (-96.3068 44.00319) \n",
       "6 MDA    Jasper        46.85971      POINT (-96.43726 43.77682)"
      ]
     },
     "metadata": {},
     "output_type": "display_data"
    }
   ],
   "source": [
    "head(soil_samp) #print data (top 6 rows)"
   ]
  },
  {
   "cell_type": "code",
   "execution_count": 5,
   "id": "1d401465-7591-4221-abf2-8a1f9fd05179",
   "metadata": {},
   "outputs": [
    {
     "data": {
      "text/plain": [
       "     xmin      ymin      xmax      ymax \n",
       "-97.15028  43.51400 -91.80022  48.88353 "
      ]
     },
     "metadata": {},
     "output_type": "display_data"
    }
   ],
   "source": [
    "st_bbox(soil_samp) #bounding box"
   ]
  },
  {
   "cell_type": "code",
   "execution_count": 6,
   "id": "217b71de-4acf-4448-a501-367f22594b7f",
   "metadata": {},
   "outputs": [
    {
     "data": {
      "text/plain": [
       "Coordinate Reference System:\n",
       "  User input: EPSG:4326 \n",
       "  wkt:\n",
       "GEOGCRS[\"WGS 84\",\n",
       "    ENSEMBLE[\"World Geodetic System 1984 ensemble\",\n",
       "        MEMBER[\"World Geodetic System 1984 (Transit)\"],\n",
       "        MEMBER[\"World Geodetic System 1984 (G730)\"],\n",
       "        MEMBER[\"World Geodetic System 1984 (G873)\"],\n",
       "        MEMBER[\"World Geodetic System 1984 (G1150)\"],\n",
       "        MEMBER[\"World Geodetic System 1984 (G1674)\"],\n",
       "        MEMBER[\"World Geodetic System 1984 (G1762)\"],\n",
       "        MEMBER[\"World Geodetic System 1984 (G2139)\"],\n",
       "        ELLIPSOID[\"WGS 84\",6378137,298.257223563,\n",
       "            LENGTHUNIT[\"metre\",1]],\n",
       "        ENSEMBLEACCURACY[2.0]],\n",
       "    PRIMEM[\"Greenwich\",0,\n",
       "        ANGLEUNIT[\"degree\",0.0174532925199433]],\n",
       "    CS[ellipsoidal,2],\n",
       "        AXIS[\"geodetic latitude (Lat)\",north,\n",
       "            ORDER[1],\n",
       "            ANGLEUNIT[\"degree\",0.0174532925199433]],\n",
       "        AXIS[\"geodetic longitude (Lon)\",east,\n",
       "            ORDER[2],\n",
       "            ANGLEUNIT[\"degree\",0.0174532925199433]],\n",
       "    USAGE[\n",
       "        SCOPE[\"Horizontal component of 3D system.\"],\n",
       "        AREA[\"World.\"],\n",
       "        BBOX[-90,-180,90,180]],\n",
       "    ID[\"EPSG\",4326]]"
      ]
     },
     "metadata": {},
     "output_type": "display_data"
    }
   ],
   "source": [
    "st_crs(soil_samp) #coordinate reference system"
   ]
  },
  {
   "cell_type": "code",
   "execution_count": 7,
   "id": "bfbcd7df-cd3d-4ecc-823c-82dad4606b25",
   "metadata": {},
   "outputs": [
    {
     "data": {
      "text/plain": [
       "    source              name           temp_20211005            geometry \n",
       " Length:65          Length:65          Min.   :35.18   POINT        :65  \n",
       " Class :character   Class :character   1st Qu.:42.90   epsg:4326    : 0  \n",
       " Mode  :character   Mode  :character   Median :49.43   +proj=long...: 0  \n",
       "                                       Mean   :49.09                     \n",
       "                                       3rd Qu.:54.89                     \n",
       "                                       Max.   :62.64                     "
      ]
     },
     "metadata": {},
     "output_type": "display_data"
    }
   ],
   "source": [
    "summary(soil_samp) #summary statistics"
   ]
  },
  {
   "cell_type": "markdown",
   "id": "848388ae-2ed6-41bb-ac7c-a1e487cdbed4",
   "metadata": {},
   "source": [
    "### Simple Maps from Point Data"
   ]
  },
  {
   "cell_type": "code",
   "execution_count": 8,
   "id": "e29dc791-efcd-4342-b9d4-885173f20a43",
   "metadata": {},
   "outputs": [
    {
     "data": {
      "image/png": "[encoded data removed]",
      "text/plain": [
       "plot without title"
      ]
     },
     "metadata": {
      "image/png": {
       "height": 420,
       "width": 420
      }
     },
     "output_type": "display_data"
    }
   ],
   "source": [
    "plot(st_geometry(soil_samp))  #plots geometry"
   ]
  },
  {
   "cell_type": "markdown",
   "id": "e2e8c0af-e9a6-48a0-834c-c866af23069a",
   "metadata": {},
   "source": [
    "#### plotting with ```base R```"
   ]
  },
  {
   "cell_type": "code",
   "execution_count": 9,
   "id": "f2f687bc-b737-4c31-a37f-739a84c98217",
   "metadata": {},
   "outputs": [
    {
     "data": {
      "image/png": "[encoded data removed]",
      "text/plain": [
       "Plot with title “temp_20211005”"
      ]
     },
     "metadata": {
      "image/png": {
       "height": 420,
       "width": 420
      }
     },
     "output_type": "display_data"
    }
   ],
   "source": [
    "#plots multiple variables\n",
    "plot(soil_samp)       "
   ]
  },
  {
   "cell_type": "code",
   "execution_count": 10,
   "id": "99bb2c61-99e5-4f15-bb9e-b214882767af",
   "metadata": {},
   "outputs": [
    {
     "data": {
      "image/png": "[encoded data removed]",
      "text/plain": [
       "Plot with title “temp_20211005”"
      ]
     },
     "metadata": {
      "image/png": {
       "height": 420,
       "width": 420
      }
     },
     "output_type": "display_data"
    }
   ],
   "source": [
    "#plots single variable\n",
    "plot(soil_samp[\"temp_20211005\"])   "
   ]
  },
  {
   "cell_type": "markdown",
   "id": "523a47da-8988-42d2-aef2-8869f7a3bf78",
   "metadata": {},
   "source": [
    "#### plotting with ```tmap```"
   ]
  },
  {
   "cell_type": "code",
   "execution_count": 11,
   "id": "1eecab68-f832-4d5c-b64f-b7bfd3dd1026",
   "metadata": {},
   "outputs": [
    {
     "name": "stderr",
     "output_type": "stream",
     "text": [
      "tmap mode set to plotting\n",
      "\n"
     ]
    },
    {
     "data": {
      "image/png": "[encoded data removed]",
      "text/plain": [
       "plot without title"
      ]
     },
     "metadata": {
      "image/png": {
       "height": 420,
       "width": 420
      }
     },
     "output_type": "display_data"
    }
   ],
   "source": [
    "tmap_mode(\"plot\")\n",
    "tm_shape(soil_samp) +\n",
    "  tm_dots(\"temp_20211005\", size = 0.3)"
   ]
  },
  {
   "cell_type": "markdown",
   "id": "a3b1c7eb-ce26-482a-8f28-39e9e739657c",
   "metadata": {},
   "source": [
    "Use the command `tmap_mode(\"view\")` and `tmap_mode(\"plot\")` to toggle between interactive viewing and static plotting."
   ]
  },
  {
   "cell_type": "markdown",
   "id": "c915f442-8527-4623-8925-0d0141ecada1",
   "metadata": {},
   "source": [
    "### Export Points Data\n",
    "\n",
    "```st_write(obj, \"./path/.../filename.shp\")```"
   ]
  },
  {
   "cell_type": "markdown",
   "id": "1ba8e4d7-c44e-4112-bdc3-2746d61322ac",
   "metadata": {},
   "source": [
    "<a id=\"Ex2\"></a>\n",
    "### **<span style='color:Green'> Exercise 2: Explore Malawi LSMS Wave 5 (Point) Data</span>**   \n",
    "\n",
    "> *Data Source:*  \n",
    "> Malawi Living Standard Measurement Survey Integrated Household Sample (LSMS-IHS) Data Wave 5 Data is available from https://microdata.worldbank.org/index.php/catalog/3818  \n",
    "\n",
    "For today's workshop, the data has been downloaded, cleaned, transformed, and saved in the directory `./data/MWI`."
   ]
  },
  {
   "cell_type": "markdown",
   "id": "883572bf-a988-4662-8d7d-435d16c4c733",
   "metadata": {},
   "source": [
    "1. Read-in the enumeration area geo-coordinates `ea_geo.csv` file."
   ]
  },
  {
   "cell_type": "code",
   "execution_count": null,
   "id": "bcb86d5a-5676-44b9-9bdd-2d336a103079",
   "metadata": {},
   "outputs": [],
   "source": []
  },
  {
   "cell_type": "markdown",
   "id": "899ae47e-1216-4ba2-b539-1b816576f8da",
   "metadata": {},
   "source": [
    "<details>\n",
    "    \n",
    "<summary><span style='color:Green'> Click to see answer  </span></summary>\n",
    "\n",
    "Use `import()` from the `rio` package to read in `ea_geo.csv`:\n",
    "\n",
    "```\n",
    "ea_geo <- import(\"./data/MWI/ea_geo.csv\")\n",
    "```\n",
    "----\n",
    "          \n",
    "</details>"
   ]
  },
  {
   "cell_type": "markdown",
   "id": "309d45a0-e5c6-4292-9174-08fa0d129011",
   "metadata": {},
   "source": [
    "2. Identify the coordinate variables. "
   ]
  },
  {
   "cell_type": "code",
   "execution_count": null,
   "id": "15c385f1-c51b-4bcc-adb7-c7304d63ff11",
   "metadata": {},
   "outputs": [],
   "source": []
  },
  {
   "cell_type": "markdown",
   "id": "a6818480-626a-43f9-b43d-70ddc8e54b95",
   "metadata": {},
   "source": [
    "<details>\n",
    "    \n",
    "<summary><span style='color:Green'> Click to see answer  </span></summary>\n",
    "\n",
    "The coodinate variables are\n",
    "\n",
    "* x: `ea_lon_mod`\n",
    "* y: `ea_lat_mod`\n",
    "\n",
    "----\n",
    "          \n",
    "</details>"
   ]
  },
  {
   "cell_type": "markdown",
   "id": "a69898d5-6cdf-438b-abe3-4b2a52c71716",
   "metadata": {},
   "source": [
    "3. Convert data.frame object into an `sf` POINT object (assume a WGS84 CRS) and explore the data."
   ]
  },
  {
   "cell_type": "code",
   "execution_count": null,
   "id": "78924df0-ba7d-4433-b630-0c8d916eb1d6",
   "metadata": {},
   "outputs": [],
   "source": []
  },
  {
   "cell_type": "markdown",
   "id": "dc4eb08e-e727-4da8-aab0-69f02e9e9dc2",
   "metadata": {},
   "source": [
    "<details>\n",
    "    \n",
    "<summary><span style='color:Green'> Click to see answer  </span></summary>\n",
    "\n",
    "```\n",
    "ea_geo <- st_as_sf(ea_geo, coords = c(\"ea_lon_mod\",\"ea_lat_mod\"), crs = 4326)\n",
    "\n",
    "ea_geo\n",
    "st_crs(ea_geo)\n",
    "st_bbox(ea_geo)\n",
    "summary(ea_geo)\n",
    "```\n",
    "\n",
    "----\n",
    "          \n",
    "</details>"
   ]
  },
  {
   "cell_type": "markdown",
   "id": "2a658acc-799f-45ac-a517-928f4293b090",
   "metadata": {},
   "source": [
    "4. Create some maps\n",
    "    1. Plot a map of the geometry of the points in base R.\n",
    "    2. Plot a map of all of variables in base R.\n",
    "    3. Plot a map of the `dist_road` variable in base R.\n",
    "    4. Plot a map of the `dist_road` variable in tmap."
   ]
  },
  {
   "cell_type": "code",
   "execution_count": 12,
   "id": "44d707fd-8968-423f-b0d1-a3e12fe08aee",
   "metadata": {},
   "outputs": [
    {
     "name": "stderr",
     "output_type": "stream",
     "text": [
      "tmap mode set to plotting\n",
      "\n"
     ]
    },
    {
     "ename": "ERROR",
     "evalue": "Error in as.list.environment(environment()): object 'ea_geo' not found\n",
     "output_type": "error",
     "traceback": [
      "Error in as.list.environment(environment()): object 'ea_geo' not found\nTraceback:\n",
      "1. tm_shape(ea_geo)",
      "2. as.list(environment())",
      "3. as.list.environment(environment())"
     ]
    }
   ],
   "source": [
    "tmap_mode(\"plot\")\n",
    "tm_shape(ea_geo) +\n",
    "  tm_dots(\"dist_road\", size = 0.3)"
   ]
  },
  {
   "cell_type": "markdown",
   "id": "e70f1418-4795-4187-a6b2-cfa167f43384",
   "metadata": {},
   "source": [
    "<details>\n",
    "    \n",
    "<summary><span style='color:Green'> Click to see answer  </span></summary>\n",
    "\n",
    "```\n",
    "# Geometry in base R\n",
    "plot(st_geometry(ea_geo))\n",
    "\n",
    "# Multiple variables in base R \n",
    "plot(ea_geo)\n",
    "\n",
    "# dist_road in base R\n",
    "plot(ea_geo[\"dist_road\"])\n",
    "\n",
    "#dist_road` in tmap \n",
    "tm_shape(ea_geo) +\n",
    "  tm_dots(\"dist_road\", size = 0.3)\n",
    "```\n",
    "\n",
    "----\n",
    "          \n",
    "</details>"
   ]
  },
  {
   "cell_type": "markdown",
   "id": "bb479a2c-5b56-4a1a-ae69-206f61451d0b",
   "metadata": {
    "tags": []
   },
   "source": [
    "<a id=\"Polygon\"></a>\n",
    "## **Working with Polygon Data in R**\n",
    "### Importing Shapefiles\n",
    "\n",
    "Our first step is to read in the .shp file that contains our attribute data and geometry data. For this example, we will be using the *Groundwater Provinces of Minnesota 2021* data. \n",
    "\n",
    "> The Minnesota Groundwater Provinces map summarizes aquifer and groundwater resource differences at the regional level. Some parts of the state have several groundwater resources to choose from, while other parts of the state may have only limited groundwater resources available.\n",
    "\n",
    "For today's workshop, 3 random variables have been added as fields for illustrative purposes. We read in vector data using the `sf` package."
   ]
  },
  {
   "cell_type": "code",
   "execution_count": null,
   "id": "f6d0bd0b-b12d-4145-b162-7ba56e2da791",
   "metadata": {},
   "outputs": [],
   "source": [
    "gw_prov <- st_read(\"./data/MN/gw_prov\") #shapefiles called only using data source name (dsn)"
   ]
  },
  {
   "cell_type": "markdown",
   "id": "279415eb-a348-4810-b757-2b7c6d78799c",
   "metadata": {},
   "source": [
    "### Summarizing Polygon Data"
   ]
  },
  {
   "cell_type": "code",
   "execution_count": null,
   "id": "a6feb001-d43e-4022-adcd-98d24592d68d",
   "metadata": {},
   "outputs": [],
   "source": [
    "head(gw_prov) #print data (top 6 rows)"
   ]
  },
  {
   "cell_type": "code",
   "execution_count": null,
   "id": "8e3de246-2e0c-4775-9792-ef6fb557b9a2",
   "metadata": {},
   "outputs": [],
   "source": [
    "st_bbox(gw_prov) #bounding box"
   ]
  },
  {
   "cell_type": "code",
   "execution_count": null,
   "id": "5870683a-d422-4c03-be54-aa771776c721",
   "metadata": {},
   "outputs": [],
   "source": [
    "st_crs(gw_prov) #coordinate reference system"
   ]
  },
  {
   "cell_type": "code",
   "execution_count": null,
   "id": "c07e1a94-5829-4b1a-b4f6-a4b970a0404d",
   "metadata": {},
   "outputs": [],
   "source": [
    "summary(gw_prov) #summary statistics"
   ]
  },
  {
   "cell_type": "markdown",
   "id": "7f5db89d-6581-43c2-bb76-416c0d530d09",
   "metadata": {},
   "source": [
    "### Simple Choropleth Maps from Polygon Data"
   ]
  },
  {
   "cell_type": "code",
   "execution_count": null,
   "id": "ea89b382-69f4-4cc8-a1e3-fab9920efb0c",
   "metadata": {},
   "outputs": [],
   "source": [
    "plot(st_geometry(gw_prov))  #plots geometry"
   ]
  },
  {
   "cell_type": "markdown",
   "id": "b02e1e42-7489-432c-b4d7-236dfff5e17f",
   "metadata": {},
   "source": [
    "#### plotting with ```base R```"
   ]
  },
  {
   "cell_type": "code",
   "execution_count": null,
   "id": "3287e8cd-b575-4ea6-aac8-9eebd1439397",
   "metadata": {},
   "outputs": [],
   "source": [
    "#plots multiple variables\n",
    "plot(gw_prov)      "
   ]
  },
  {
   "cell_type": "code",
   "execution_count": null,
   "id": "997398dc-86f0-4ea5-b074-11c91940ae36",
   "metadata": {},
   "outputs": [],
   "source": [
    "#plots single variable\n",
    "plot(gw_prov[\"var3\"])"
   ]
  },
  {
   "cell_type": "markdown",
   "id": "f2fb0be2-6921-49ee-bf54-dc49b775ce0f",
   "metadata": {},
   "source": [
    "#### plotting with ```tmap```"
   ]
  },
  {
   "cell_type": "code",
   "execution_count": null,
   "id": "18a4c4a6-e597-4e77-8a4c-03051174bfad",
   "metadata": {
    "tags": []
   },
   "outputs": [],
   "source": [
    "tm_shape(gw_prov) + \n",
    "  tm_borders(\"red\") +\n",
    "  tm_fill(col = \"var3\") +\n",
    "  tm_layout(legend.outside = TRUE)  #several more options available to clean up legend"
   ]
  },
  {
   "cell_type": "markdown",
   "id": "480cc1a5-913d-4f8d-83d9-e910677df010",
   "metadata": {},
   "source": [
    "### Export Polygon Data\n",
    "\n",
    "```st_write(obj, \"./path/.../filename.shp\")```"
   ]
  },
  {
   "cell_type": "markdown",
   "id": "a5b3b570-f8b6-402a-8d06-fcc3b81b96f9",
   "metadata": {},
   "source": [
    "<a id=\"Ex3\"></a>\n",
    "### **<span style='color:Green'> Exercise 3: Explore Malawi LSMS Wave 5 (Polygon) Data</span>**   \n",
    "\n",
    "> *Data Source:*  \n",
    "> Malawi Living Standard Measurement Survey Integrated Household Sample (LSMS-IHS) Data Wave 5 Data is available from https://microdata.worldbank.org/index.php/catalog/3818  \n",
    "> The Shapefile can be downloaded from https://data.humdata.org/dataset/malawi-administrative-level-0-3-boundaries\n",
    "\n",
    "For today's workshop, the data has been downloaded, cleaned, transformed, and saved in the directory `./data/MWI`."
   ]
  },
  {
   "cell_type": "markdown",
   "id": "d1e0aa21-5551-4e4c-9a6c-a08d3fe6bccc",
   "metadata": {},
   "source": [
    "1. Read-in the `mwi_lsms` shapefile located in the `./data/MWI` folder."
   ]
  },
  {
   "cell_type": "code",
   "execution_count": null,
   "id": "fa30c96d-1fa9-4286-ad79-fe5a28462005",
   "metadata": {},
   "outputs": [],
   "source": []
  },
  {
   "cell_type": "markdown",
   "id": "307f19ba-b8ac-4f0c-a944-2db24e24eb12",
   "metadata": {},
   "source": [
    "<details>\n",
    "    \n",
    "<summary><span style='color:Green'> Click to see answer  </span></summary>\n",
    "\n",
    "Use `st_read()` to read in the MWI shapefile:\n",
    "\n",
    "```\n",
    "mwi_lsms <- st_read(\"./data/MWI\")\n",
    "```\n",
    "----\n",
    "          \n",
    "</details>"
   ]
  },
  {
   "cell_type": "markdown",
   "id": "294f5f98-3b8c-446b-abc7-40b724eefd70",
   "metadata": {},
   "source": [
    "2. Explore the characteristics of your shapefile. \n",
    "    1. How many features does it have?\n",
    "    2. How many fields does it have?\n",
    "    3. Calculate the summary statistics of the field data."
   ]
  },
  {
   "cell_type": "code",
   "execution_count": null,
   "id": "c32c969a-8648-4150-9b25-6c2e24bf3808",
   "metadata": {},
   "outputs": [],
   "source": []
  },
  {
   "cell_type": "markdown",
   "id": "26ce9c3a-8ada-45b8-864d-72beb4456c9a",
   "metadata": {},
   "source": [
    "<details>\n",
    "    \n",
    "<summary><span style='color:Green'> Click to see answer  </span></summary>\n",
    "\n",
    "Using both the print function `mwi_lsms` we see that there are 32 features and 18 fields.  \n",
    "\n",
    "Summary statistics can be calculated using `summary(mwi_lsms)`.\n",
    "    \n",
    "----\n",
    "          \n",
    "</details>"
   ]
  },
  {
   "cell_type": "markdown",
   "id": "e45a9c36-bb15-40f6-b6e5-0ac755f414e6",
   "metadata": {},
   "source": [
    "3. Create some choropleth maps\n",
    "    1. Plot a map of the outline of Malawi districts (ADM2 units) in base R.\n",
    "    2. Plot a map of all of first 18 variables in base R.\n",
    "    3. Plot a map of the `poverty` variable in base R.\n",
    "    4. Plot a map of the `poverty` variable in tmap."
   ]
  },
  {
   "cell_type": "code",
   "execution_count": null,
   "id": "9f1c2506-a636-45ae-abfc-2ea20e3c7050",
   "metadata": {},
   "outputs": [],
   "source": []
  },
  {
   "cell_type": "markdown",
   "id": "e43c988e-abc2-40b9-9789-b4dd66105bab",
   "metadata": {},
   "source": [
    "<details>\n",
    "    \n",
    "<summary><span style='color:Green'> Click to see answer  </span></summary>\n",
    "\n",
    "```\n",
    "# Geometry in base R\n",
    "plot(st_geometry(mwi_lsms))\n",
    "\n",
    "# Multiple variables in base R \n",
    "plot(mwi_lsms, max.plot = 18)\n",
    "\n",
    "# dist_road in base R\n",
    "plot(mwi_lsms[\"poverty\"])\n",
    "\n",
    "#dist_road` in tmap \n",
    "tm_shape(mwi_lsms) + \n",
    "  tm_polygons(col = \"poverty\")\n",
    "```\n",
    "\n",
    "----\n",
    "          \n",
    "</details>"
   ]
  },
  {
   "cell_type": "markdown",
   "id": "2c85bb89-387a-47f5-b1ae-c32c062586db",
   "metadata": {
    "tags": []
   },
   "source": [
    "<a id=\"Raster\"></a>\n",
    "## **Working with Raster Data in R**\n",
    "### Importing Raster Files\n",
    "\n",
    "Our first step is to read in the raster file that contains our data. For this example, we will be using the *Cropland Data Layer 2020, Minnesota* data. \n",
    "\n",
    "> The United States Department of Agriculture (USDA), National Agricultural Statistics Service (NASS) Cropland Data Layer (CDL) is a raster, geo-referenced, crop-specific land cover data layer.\n",
    "\n",
    "For today's workshop, the data has been transformed to represent 3 categories: non-cropland (0), corn (1), and other cropland (2). We read in raster data using the `terra` package."
   ]
  },
  {
   "cell_type": "code",
   "execution_count": null,
   "id": "45e79d59-d8b9-41c2-86e9-09334af0660a",
   "metadata": {},
   "outputs": [],
   "source": [
    "cdl <- rast(\"./data/MN/cdl_2020/cdl3_3km.tif\") \n",
    "cdl"
   ]
  },
  {
   "cell_type": "markdown",
   "id": "446268cc-c732-4562-8acd-7727616c9835",
   "metadata": {},
   "source": [
    "### Summarizing Raster Data"
   ]
  },
  {
   "cell_type": "code",
   "execution_count": null,
   "id": "b0150bac-0c91-4dec-a63e-b19925f3c6a1",
   "metadata": {
    "tags": []
   },
   "outputs": [],
   "source": [
    "nrow(cdl) #number of rows"
   ]
  },
  {
   "cell_type": "code",
   "execution_count": null,
   "id": "731779e0-2146-4cb9-8aeb-49aa856e41cb",
   "metadata": {},
   "outputs": [],
   "source": [
    "ncol(cdl) #number of columns\n",
    "ncell(cdl)"
   ]
  },
  {
   "cell_type": "code",
   "execution_count": null,
   "id": "c8c2ebaa-1b18-400b-b993-198ba38661bc",
   "metadata": {},
   "outputs": [],
   "source": [
    "res(cdl) #resolution"
   ]
  },
  {
   "cell_type": "code",
   "execution_count": null,
   "id": "32c1e54d-bc76-430a-bcb4-55dc5d8b37aa",
   "metadata": {},
   "outputs": [],
   "source": [
    "ext(cdl) #bounding box"
   ]
  },
  {
   "cell_type": "code",
   "execution_count": null,
   "id": "2790e929-949b-4ec9-b755-1b59f45441ac",
   "metadata": {},
   "outputs": [],
   "source": [
    "crs(cdl) #coordinate reference system"
   ]
  },
  {
   "cell_type": "code",
   "execution_count": null,
   "id": "06ae2457-69a1-4ac8-8f6a-943e0a8bc47a",
   "metadata": {},
   "outputs": [],
   "source": [
    "hist(cdl) #histogram of values"
   ]
  },
  {
   "cell_type": "markdown",
   "id": "d3a28fab-641e-4a5e-8d16-f4e215780066",
   "metadata": {},
   "source": [
    "### Simple Maps from Raster Data"
   ]
  },
  {
   "cell_type": "markdown",
   "id": "dd4813c1-6e96-4be7-80aa-3428acb8b8eb",
   "metadata": {},
   "source": [
    "#### plotting with ```base R```"
   ]
  },
  {
   "cell_type": "code",
   "execution_count": null,
   "id": "fb4de9ec-68d3-4468-b5d8-3a329ec04a43",
   "metadata": {},
   "outputs": [],
   "source": [
    "plot(cdl)    "
   ]
  },
  {
   "cell_type": "markdown",
   "id": "391e9b03-49a6-4e97-9a6c-504165834bbd",
   "metadata": {},
   "source": [
    "#### plotting with ```tmap```"
   ]
  },
  {
   "cell_type": "code",
   "execution_count": null,
   "id": "bc063090-10d7-4cd9-b55c-a2998f489bb7",
   "metadata": {
    "tags": []
   },
   "outputs": [],
   "source": [
    "tm_shape(cdl) + \n",
    "  tm_raster() +\n",
    "  tm_layout(legend.outside = TRUE)"
   ]
  },
  {
   "cell_type": "markdown",
   "id": "a56ff5b7-7923-4679-b5a9-d302649bdfc0",
   "metadata": {},
   "source": [
    "### Export Raster Data\n",
    "\n",
    "```writeRaster(obj, \"./path/.../filename.tif\", overwrite=TRUE)```\n",
    "\n",
    "I recommend you write out your raster objects as GeoTiff files"
   ]
  },
  {
   "cell_type": "markdown",
   "id": "60cf56e0-72dc-4b78-b21d-1d6596165af7",
   "metadata": {},
   "source": [
    "<a id=\"Ex4\"></a>\n",
    "### **<span style='color:Green'> Exercise 4: Explore Malawi LSMS Wave 5 (Raster) Data</span>**   \n",
    "\n",
    "> *Data Source:*  \n",
    "> The data were aggregated from SRTM 90 m resolution data between -60 and 60 latitude. \n",
    "\n",
    "The data will be downloaded directly using the `raster::getData()` function in R"
   ]
  },
  {
   "cell_type": "markdown",
   "id": "5b04c706-506d-48d3-b277-b73aad68549c",
   "metadata": {},
   "source": [
    "1. Using the command `mwi_dem <- raster::getData('alt', country='MWI', mask=TRUE, path = \"./data/MWI\")`, download the digital elevation model (dem) data for Malawi. "
   ]
  },
  {
   "cell_type": "code",
   "execution_count": null,
   "id": "493cdafd-19d8-4d23-8e67-95d5de1dd9d4",
   "metadata": {},
   "outputs": [],
   "source": []
  },
  {
   "cell_type": "markdown",
   "id": "63afe623-104e-4a7b-81e4-4378f9d4816c",
   "metadata": {},
   "source": [
    "2. Convert file to a `terra::SpatRaster` object using the `rast()` command. [You can ignore the warnings.]"
   ]
  },
  {
   "cell_type": "code",
   "execution_count": null,
   "id": "fd38b83b-79d3-4abe-854d-b1d6c482eead",
   "metadata": {},
   "outputs": [],
   "source": []
  },
  {
   "cell_type": "markdown",
   "id": "b2141f7e-358a-4de7-a14c-d9fadf93be4b",
   "metadata": {},
   "source": [
    "<details>\n",
    "    \n",
    "<summary><span style='color:Green'> Click to see answer  </span></summary>\n",
    "\n",
    "```\n",
    "mwi_dem <- rast(mwi_dem)\n",
    "```\n",
    "----\n",
    "          \n",
    "</details>"
   ]
  },
  {
   "cell_type": "markdown",
   "id": "8547955a-dd29-4c00-813a-02c0e4011fa2",
   "metadata": {},
   "source": [
    "3. Set coordinate reference system using the command `crs(mwi_dem) <- \"epsg:4326\"`"
   ]
  },
  {
   "cell_type": "code",
   "execution_count": null,
   "id": "258af720-5f24-4663-bd04-6c9d5e3c4d63",
   "metadata": {},
   "outputs": [],
   "source": []
  },
  {
   "cell_type": "markdown",
   "id": "adbbfc20-2cf3-4571-aebc-78cfa4d3c9ee",
   "metadata": {},
   "source": [
    "4. Explore the characteristics of your raster. \n",
    "    1. How many rows and columns does it have?\n",
    "    2. What is the resolution?\n",
    "    3. What is the coordinate reference system?\n",
    "    4. What is the distribution of values?"
   ]
  },
  {
   "cell_type": "code",
   "execution_count": null,
   "id": "862c1df1-a7aa-41be-886a-86923128a0dc",
   "metadata": {},
   "outputs": [],
   "source": []
  },
  {
   "cell_type": "markdown",
   "id": "5d028a01-9e5b-44c0-a7f3-39d0a6822cce",
   "metadata": {},
   "source": [
    "<details>\n",
    "    \n",
    "<summary><span style='color:Green'> Click to see answer  </span></summary>\n",
    "\n",
    "By printing your raster object `mwi_dem` or using `nrow(mwi_dem)`, `ncol(mwi_dem)`, `res(mwi_dem)`, and `crs(mwi_dem)` you can see that \n",
    "    \n",
    "* There are 948 rows and 408 columns\n",
    "* The cell resolution is 0.008333333 degrees, which is also referred to as 30 arc-seconds (approximately 1km at the equator)\n",
    "* The coordinate reference system is lon/lat WGS 84 (EPSG:4326)\n",
    "* The distribution of elevation ranges from 32 meters to 2,748 meters above sea level\n",
    "   \n",
    "The distribution of elevation can also be seen using a histogram\n",
    "```\n",
    "hist(mwi_dem)\n",
    "```\n",
    "\n",
    "----\n",
    "          \n",
    "</details>"
   ]
  },
  {
   "cell_type": "markdown",
   "id": "f5139696-df02-489b-a77d-5ce8e23fc8e8",
   "metadata": {},
   "source": [
    "5. Create some maps\n",
    "    1. Plot a map of elevation in base R.\n",
    "    2. Plot a map of elevation in tmap."
   ]
  },
  {
   "cell_type": "code",
   "execution_count": null,
   "id": "2ef65d72-55da-4d66-ad87-aef190fec7ba",
   "metadata": {},
   "outputs": [],
   "source": []
  },
  {
   "cell_type": "markdown",
   "id": "a2ccd2f8-ad19-4ff1-86c3-af6835f5f063",
   "metadata": {},
   "source": [
    "<details>\n",
    "    \n",
    "<summary><span style='color:Green'> Click to see answer  </span></summary>\n",
    "\n",
    "```\n",
    "# elevation in base R\n",
    "plot(mwi_dem)\n",
    "\n",
    "# elevation in tmap \n",
    "tm_shape(mwi_dem) + \n",
    "  tm_raster() +\n",
    "  tm_layout(legend.outside = TRUE)\n",
    "```\n",
    "\n",
    "----\n",
    "          \n",
    "</details>"
   ]
  },
  {
   "cell_type": "markdown",
   "id": "044ba3b3-8d3f-441e-906f-3664bc9e4210",
   "metadata": {
    "tags": []
   },
   "source": [
    "<a id=\"Map\"></a>\n",
    "## **Layering Features**\n",
    "\n",
    "Now that you know how to import and map vector and raster data you can start layering muliple objects on top of one another in your maps. "
   ]
  },
  {
   "cell_type": "code",
   "execution_count": null,
   "id": "b7d2a47a-385e-44a4-8821-1079ed0b954f",
   "metadata": {},
   "outputs": [],
   "source": [
    "tm_shape(cdl) + tm_raster(title = \"Land Class\", palette = \"Set2\") +\n",
    "  tm_shape(gw_prov) + tm_borders() + \n",
    "  tm_shape(soil_samp) + tm_bubbles(\"temp_20211005\", size = 0.2, palette = \"Greys\") +\n",
    "  tm_layout(legend.outside = TRUE)"
   ]
  },
  {
   "cell_type": "markdown",
   "id": "80300013-ae88-4f5c-85a1-f3b6dd051d45",
   "metadata": {},
   "source": [
    "### Picking Colors\n",
    "I recommend using the Color Brewer website to pick color palettes for your maps: https://colorbrewer2.org/"
   ]
  },
  {
   "cell_type": "markdown",
   "id": "f1ee0b6d-baa3-4b5c-927f-65a6a0aaf722",
   "metadata": {},
   "source": [
    "### Export tmap Images\n",
    "\n",
    "```tmap_save(obj, \"./path/.../filename.png\", height = 4, width = 6, unit = \"in\")```"
   ]
  },
  {
   "cell_type": "markdown",
   "id": "adb0ed35-b55c-4a64-b958-4c8e99d275d4",
   "metadata": {},
   "source": [
    "<a id=\"Ex5\"></a>\n",
    "### **<span style='color:Green'> Exercise 5: Maps with Multiple Features</span>**   "
   ]
  },
  {
   "cell_type": "markdown",
   "id": "bbca68dc-e7c1-49df-bf0f-db8c71f59a5e",
   "metadata": {},
   "source": [
    "1. Create a `tmap` object with three features\n",
    "    1. Malawi DEM (raster)\n",
    "    2. Malawi district boundaries borders (polygon)\n",
    "    3. Malawi LSMS surveyed enumeration areas (point)"
   ]
  },
  {
   "cell_type": "markdown",
   "id": "b664302a-2912-48c8-85d5-7903243f47f5",
   "metadata": {},
   "source": [
    "<details>\n",
    "    \n",
    "<summary><span style='color:Green'> Click to see answer  </span></summary>\n",
    "\n",
    "```\n",
    "tm_shape(mwi_dem) + tm_raster() +\n",
    "  tm_shape(mwi_lsms) + tm_borders() + \n",
    "  tm_shape(ea_geo) + tm_dots(size = 0.2) +\n",
    "  tm_layout(legend.outside = TRUE)\n",
    "```\n",
    "----\n",
    "          \n",
    "</details>"
   ]
  }
 ],
 "metadata": {
  "kernelspec": {
   "display_name": "R",
   "language": "R",
   "name": "ir"
  },
  "language_info": {
   "codemirror_mode": "r",
   "file_extension": ".r",
   "mimetype": "text/x-r-source",
   "name": "R",
   "pygments_lexer": "r",
   "version": "4.1.2"
  }
 },
 "nbformat": 4,
 "nbformat_minor": 5
}
