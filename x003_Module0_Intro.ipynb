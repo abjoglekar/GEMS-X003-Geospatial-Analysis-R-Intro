{
 "cells": [
  {
   "cell_type": "markdown",
   "id": "5afde9ec-93ca-411f-81e6-085a960d516d",
   "metadata": {},
   "source": [
    "<img src=\"images/GEMS Informatics Learning.png\" width=600 alt=\"GEMS Learning Logo\" title=\"GEMS Learning\" />"
   ]
  },
  {
   "cell_type": "markdown",
   "id": "80f7c118-aed9-4860-ae14-f6251f982156",
   "metadata": {
    "tags": []
   },
   "source": [
    "# **Introduction to Spatial Data Analysis in R**\n",
    "\n",
    "**Instructors:**  \n",
    "Ali Joglekar (joglekar@umn.edu)  \n",
    "Yuan Chai (chaix026@umn.edu)  \n",
    "\n",
    "**Module Outline:**  \n",
    "- [I/O Point Data & Basic Maps](#Point)  \n",
    "  - [Exercise 2](#Ex2)\n",
    "- [I/O Polygon Data & Basic Maps](#Polygon) \n",
    "  - [Exercise 3](#Ex3)\n",
    "- [I/O Raster Data & Basic Maps](#Raster)  \n",
    "  - [Exercise 4](#Ex4)\n",
    "- [Layering Features in Maps](#Map)\n",
    "  - [Exercise 5](#Ex5)\n",
    "\n",
    "---"
   ]
  },
  {
   "cell_type": "markdown",
   "id": "4e55eb90-e698-4f23-8ec7-a113d4e6f941",
   "metadata": {},
   "source": [
    "### Load R Libraries"
   ]
  },
  {
   "cell_type": "code",
   "execution_count": null,
   "id": "09a61e31-69a1-4631-a05e-8b7dd92d1e43",
   "metadata": {
    "tags": []
   },
   "outputs": [],
   "source": [
    "# Install and load packages needed for this workshop\n",
    "\n",
    "packages_to_load <- c(\"sf\", \"terra\", \"tmap\")\n",
    "\n",
    "for ( package in packages_to_load ) {\n",
    "    # Check if package is already installed, if not, install and load the package\n",
    "    if (!require(package, character.only=T, quietly=T, warn.conflicts=F)) {\n",
    "        install.packages(package)\n",
    "        suppressPackageStartupMessages(library(package, character.only=T, quietly=T, warn.conflicts=F))\n",
    "    }\n",
    "}"
   ]
  },
  {
   "cell_type": "markdown",
   "id": "7027df3e-2d86-4aad-83ee-f75dd19769d0",
   "metadata": {},
   "source": [
    "<details>\n",
    "    \n",
    "<summary><span style='color:Green'> Note: For your own work, once packages are installed, it is recommended to just use library() to load your packages  </span></summary>\n",
    "\n",
    "\n",
    "```\n",
    "# Spatial data libraries\n",
    "library(sf)\n",
    "library(terra)\n",
    "\n",
    "# Plotting libraries\n",
    "library(tmap)\n",
    "```\n",
    "----\n",
    "          \n",
    "</details>\n"
   ]
  },
  {
   "cell_type": "markdown",
   "id": "6626ad96-4ded-476c-aef8-7c7f955a0d33",
   "metadata": {},
   "source": [
    "### Data\n",
    "\n",
    "In this example, we will use three datasets from the Minnesota Geospatial Commons, which have been downloaded, cleaned, transformed and saved in the directory `./data/MN` for this workshop.\n",
    "1. Minnesota Six-Inch Soil Temperature: https://gisdata.mn.gov/dataset/geos-soil-temp-network\n",
    "2. Groundwater Provinces of Minnesota 2021: https://gisdata.mn.gov/dataset/geos-groundwater-provinces-mn\n",
    "3. Cropland Data Layer 2020, Minnesota: https://gisdata.mn.gov/dataset/agri-cropland-data-layer-2020"
   ]
  },
  {
   "cell_type": "markdown",
   "id": "7442a96f-02a0-4eb1-b883-af9df6f8dce0",
   "metadata": {
    "tags": []
   },
   "source": [
    "<a id=\"Point\"></a>\n",
    "## **Working with Spatial Points Data in R**\n",
    "### Importing XY data\n",
    "\n",
    "Our first step is to read in the .csv file that contains our attribute data and geocordinates. For this example, we will be using the *Minnesota Six-Inch Soil Temperature* data. \n",
    "\n",
    "> The Minnesota Department of Agriculture (MDA) Six-Inch Soil Temperature Network provides real time soil temperatures at locations across Minnesota. The network was established to assist in following best management practices for fall nitrogen fertilizer application which refer to a soil temperature at a six-inch depth.\n",
    "\n",
    "For today's workshop, a random October 5, 2021 temperature has been added for illustrative purposes. We read in .csv data using the `rio` package."
   ]
  },
  {
   "cell_type": "code",
   "execution_count": null,
   "id": "f51f6fb3-751e-404a-b624-dc8ec47aa24d",
   "metadata": {},
   "outputs": [],
   "source": [
    "soil_samp <- read.csv(\"./data/MN/soil_samp/soil_samp_2021-10-05.csv\")\n",
    "soil_samp"
   ]
  },
  {
   "cell_type": "markdown",
   "id": "b32fd09c-f0ff-4363-8dc3-b3fe4bf3b113",
   "metadata": {},
   "source": [
    "### Converting to `sf` Object\n",
    "\n",
    "After identifying the longitude (x) and latitude (y) coordinates, we convert the *xy* data to an `sf` object using `st_as_sf`."
   ]
  },
  {
   "cell_type": "code",
   "execution_count": null,
   "id": "bf17761f-5143-44f1-8c8a-169c5e1104ae",
   "metadata": {},
   "outputs": [],
   "source": [
    "soil_samp <- st_as_sf(soil_samp, coords = c(\"x\",\"y\"))"
   ]
  },
  {
   "cell_type": "markdown",
   "id": "0ab0ba2a-44df-4bed-8c3a-d3ad1abce8fa",
   "metadata": {
    "tags": []
   },
   "source": [
    "We're setting the coordinate reference system (crs) to WGS84. This is represented by the European Petroleum Survey Group (EPSG) Code: 4326"
   ]
  },
  {
   "cell_type": "markdown",
   "id": "c7476711-ef93-4ae9-b356-d6f5ddf0a6eb",
   "metadata": {},
   "source": [
    "### Summarizing Point Data"
   ]
  },
  {
   "cell_type": "code",
   "execution_count": null,
   "id": "bfdf73a9-ee85-4636-8e88-b30e706b77ce",
   "metadata": {},
   "outputs": [],
   "source": [
    "head(soil_samp) #print data (top 6 rows)"
   ]
  },
  {
   "cell_type": "code",
   "execution_count": null,
   "id": "1d401465-7591-4221-abf2-8a1f9fd05179",
   "metadata": {},
   "outputs": [],
   "source": [
    "st_bbox(soil_samp) #bounding box"
   ]
  },
  {
   "cell_type": "code",
   "execution_count": null,
   "id": "217b71de-4acf-4448-a501-367f22594b7f",
   "metadata": {},
   "outputs": [],
   "source": [
    "st_crs(soil_samp) #coordinate reference system"
   ]
  },
  {
   "cell_type": "code",
   "execution_count": null,
   "id": "66b83f47-cb7d-4e65-b76a-ea170f5361f1",
   "metadata": {},
   "outputs": [],
   "source": [
    "st_crs(soil_samp) = 4326 #set crs to wgs84\n",
    "st_crs(soil_samp)"
   ]
  },
  {
   "cell_type": "code",
   "execution_count": null,
   "id": "bfbcd7df-cd3d-4ecc-823c-82dad4606b25",
   "metadata": {},
   "outputs": [],
   "source": [
    "summary(soil_samp) #summary statistics"
   ]
  },
  {
   "cell_type": "markdown",
   "id": "848388ae-2ed6-41bb-ac7c-a1e487cdbed4",
   "metadata": {},
   "source": [
    "### Simple Maps from Point Data"
   ]
  },
  {
   "cell_type": "code",
   "execution_count": null,
   "id": "e29dc791-efcd-4342-b9d4-885173f20a43",
   "metadata": {},
   "outputs": [],
   "source": [
    "plot(st_geometry(soil_samp))  #plots geometry"
   ]
  },
  {
   "cell_type": "markdown",
   "id": "e2e8c0af-e9a6-48a0-834c-c866af23069a",
   "metadata": {},
   "source": [
    "#### plotting with ```base R```"
   ]
  },
  {
   "cell_type": "code",
   "execution_count": null,
   "id": "f2f687bc-b737-4c31-a37f-739a84c98217",
   "metadata": {},
   "outputs": [],
   "source": [
    "#plots multiple variables\n",
    "plot(soil_samp)       "
   ]
  },
  {
   "cell_type": "code",
   "execution_count": null,
   "id": "99bb2c61-99e5-4f15-bb9e-b214882767af",
   "metadata": {},
   "outputs": [],
   "source": [
    "#plots single variable\n",
    "plot(soil_samp[\"temp_20211005\"])   "
   ]
  },
  {
   "cell_type": "markdown",
   "id": "523a47da-8988-42d2-aef2-8869f7a3bf78",
   "metadata": {},
   "source": [
    "#### plotting with ```tmap```"
   ]
  },
  {
   "cell_type": "code",
   "execution_count": null,
   "id": "1eecab68-f832-4d5c-b64f-b7bfd3dd1026",
   "metadata": {},
   "outputs": [],
   "source": [
    "tm_shape(soil_samp) +\n",
    "  tm_dots(\"temp_20211005\", size = 0.3)"
   ]
  },
  {
   "cell_type": "markdown",
   "id": "c915f442-8527-4623-8925-0d0141ecada1",
   "metadata": {},
   "source": [
    "### Export Points Data\n",
    "\n",
    "```st_write(obj, \"./path/.../filename.shp\")```"
   ]
  },
  {
   "cell_type": "markdown",
   "id": "1ba8e4d7-c44e-4112-bdc3-2746d61322ac",
   "metadata": {},
   "source": [
    "<a id=\"Ex2\"></a>\n",
    "### **<span style='color:Green'> Exercise 2: Explore Malawi LSMS Wave 5 (Point) Data</span>**   \n",
    "\n",
    "> *Data Source:*  \n",
    "> Malawi Living Standard Measurement Survey Integrated Household Sample (LSMS-IHS) Data Wave 5 Data is available from https://microdata.worldbank.org/index.php/catalog/3818  \n",
    "\n",
    "For today's workshop, the data has been downloaded, cleaned, transformed, and saved in the directory `./data/MWI`."
   ]
  },
  {
   "cell_type": "markdown",
   "id": "883572bf-a988-4662-8d7d-435d16c4c733",
   "metadata": {},
   "source": [
    "1. Read-in the enumeration area geo-coordinates `ea_geo.csv` file."
   ]
  },
  {
   "cell_type": "code",
   "execution_count": null,
   "id": "bcb86d5a-5676-44b9-9bdd-2d336a103079",
   "metadata": {},
   "outputs": [],
   "source": []
  },
  {
   "cell_type": "markdown",
   "id": "899ae47e-1216-4ba2-b539-1b816576f8da",
   "metadata": {},
   "source": [
    "<details>\n",
    "    \n",
    "<summary><span style='color:Green'> Click to see answer  </span></summary>\n",
    "\n",
    "Use `import()` from the `rio` package to read in `ea_geo.csv`:\n",
    "\n",
    "```\n",
    "ea_geo <- import(\"./data/MWI/ea_geo.csv\")\n",
    "```\n",
    "----\n",
    "          \n",
    "</details>"
   ]
  },
  {
   "cell_type": "markdown",
   "id": "309d45a0-e5c6-4292-9174-08fa0d129011",
   "metadata": {},
   "source": [
    "2. Identify the coordinate variables. "
   ]
  },
  {
   "cell_type": "code",
   "execution_count": null,
   "id": "15c385f1-c51b-4bcc-adb7-c7304d63ff11",
   "metadata": {},
   "outputs": [],
   "source": []
  },
  {
   "cell_type": "markdown",
   "id": "a6818480-626a-43f9-b43d-70ddc8e54b95",
   "metadata": {},
   "source": [
    "<details>\n",
    "    \n",
    "<summary><span style='color:Green'> Click to see answer  </span></summary>\n",
    "\n",
    "The coodinate variables are\n",
    "\n",
    "* x: `ea_lon_mod`\n",
    "* y: `ea_lat_mod`\n",
    "\n",
    "----\n",
    "          \n",
    "</details>"
   ]
  },
  {
   "cell_type": "markdown",
   "id": "a69898d5-6cdf-438b-abe3-4b2a52c71716",
   "metadata": {},
   "source": [
    "3. Convert data.frame object into an `sf` POINT object (assume a WGS84 CRS) and explore the data."
   ]
  },
  {
   "cell_type": "code",
   "execution_count": null,
   "id": "78924df0-ba7d-4433-b630-0c8d916eb1d6",
   "metadata": {},
   "outputs": [],
   "source": []
  },
  {
   "cell_type": "markdown",
   "id": "dc4eb08e-e727-4da8-aab0-69f02e9e9dc2",
   "metadata": {},
   "source": [
    "<details>\n",
    "    \n",
    "<summary><span style='color:Green'> Click to see answer  </span></summary>\n",
    "\n",
    "```\n",
    "ea_geo <- st_as_sf(ea_geo, coords = c(\"ea_lon_mod\",\"ea_lat_mod\"), crs = 4326)\n",
    "\n",
    "ea_geo\n",
    "st_crs(ea_geo)\n",
    "st_bbox(ea_geo)\n",
    "summary(ea_geo)\n",
    "```\n",
    "\n",
    "----\n",
    "          \n",
    "</details>"
   ]
  },
  {
   "cell_type": "markdown",
   "id": "2a658acc-799f-45ac-a517-928f4293b090",
   "metadata": {},
   "source": [
    "4. Create some maps\n",
    "    1. Plot a map of the geometry of the points in base R.\n",
    "    2. Plot a map of all of variables in base R.\n",
    "    3. Plot a map of the `dist_road` variable in base R.\n",
    "    4. Plot a map of the `dist_road` variable in tmap."
   ]
  },
  {
   "cell_type": "code",
   "execution_count": null,
   "id": "44d707fd-8968-423f-b0d1-a3e12fe08aee",
   "metadata": {},
   "outputs": [],
   "source": []
  },
  {
   "cell_type": "markdown",
   "id": "e70f1418-4795-4187-a6b2-cfa167f43384",
   "metadata": {},
   "source": [
    "<details>\n",
    "    \n",
    "<summary><span style='color:Green'> Click to see answer  </span></summary>\n",
    "\n",
    "```\n",
    "# Geometry in base R\n",
    "plot(st_geometry(ea_geo))\n",
    "\n",
    "# Multiple variables in base R \n",
    "plot(ea_geo)\n",
    "\n",
    "# dist_road in base R\n",
    "plot(ea_geo[\"dist_road\"])\n",
    "\n",
    "#dist_road` in tmap \n",
    "tm_shape(ea_geo) +\n",
    "  tm_dots(\"dist_road\", size = 0.3)\n",
    "```\n",
    "\n",
    "----\n",
    "          \n",
    "</details>"
   ]
  },
  {
   "cell_type": "markdown",
   "id": "bb479a2c-5b56-4a1a-ae69-206f61451d0b",
   "metadata": {
    "tags": []
   },
   "source": [
    "<a id=\"Polygon\"></a>\n",
    "## **Working with Polygon Data in R**\n",
    "### Importing Shapefiles\n",
    "\n",
    "Our first step is to read in the .shp file that contains our attribute data and geometry data. For this example, we will be using the *Groundwater Provinces of Minnesota 2021* data. \n",
    "\n",
    "> The Minnesota Groundwater Provinces map summarizes aquifer and groundwater resource differences at the regional level. Some parts of the state have several groundwater resources to choose from, while other parts of the state may have only limited groundwater resources available.\n",
    "\n",
    "For today's workshop, 3 random variables have been added as fields for illustrative purposes. We read in vector data using the `sf` package."
   ]
  },
  {
   "cell_type": "code",
   "execution_count": null,
   "id": "f6d0bd0b-b12d-4145-b162-7ba56e2da791",
   "metadata": {},
   "outputs": [],
   "source": [
    "gw_prov <- st_read(\"./data/MN/gw_prov\") #shapefiles called only using data source name (dsn)"
   ]
  },
  {
   "cell_type": "markdown",
   "id": "279415eb-a348-4810-b757-2b7c6d78799c",
   "metadata": {},
   "source": [
    "### Summarizing Polygon Data"
   ]
  },
  {
   "cell_type": "code",
   "execution_count": null,
   "id": "a6feb001-d43e-4022-adcd-98d24592d68d",
   "metadata": {},
   "outputs": [],
   "source": [
    "head(gw_prov) #print data (top 6 rows)"
   ]
  },
  {
   "cell_type": "code",
   "execution_count": null,
   "id": "8e3de246-2e0c-4775-9792-ef6fb557b9a2",
   "metadata": {},
   "outputs": [],
   "source": [
    "st_bbox(gw_prov) #bounding box"
   ]
  },
  {
   "cell_type": "code",
   "execution_count": null,
   "id": "5870683a-d422-4c03-be54-aa771776c721",
   "metadata": {},
   "outputs": [],
   "source": [
    "st_crs(gw_prov) #coordinate reference system"
   ]
  },
  {
   "cell_type": "code",
   "execution_count": null,
   "id": "c07e1a94-5829-4b1a-b4f6-a4b970a0404d",
   "metadata": {},
   "outputs": [],
   "source": [
    "summary(gw_prov) #summary statistics"
   ]
  },
  {
   "cell_type": "markdown",
   "id": "7f5db89d-6581-43c2-bb76-416c0d530d09",
   "metadata": {},
   "source": [
    "### Simple Choropleth Maps from Polygon Data"
   ]
  },
  {
   "cell_type": "code",
   "execution_count": null,
   "id": "ea89b382-69f4-4cc8-a1e3-fab9920efb0c",
   "metadata": {},
   "outputs": [],
   "source": [
    "plot(st_geometry(gw_prov))  #plots geometry"
   ]
  },
  {
   "cell_type": "markdown",
   "id": "b02e1e42-7489-432c-b4d7-236dfff5e17f",
   "metadata": {},
   "source": [
    "#### plotting with ```base R```"
   ]
  },
  {
   "cell_type": "code",
   "execution_count": null,
   "id": "3287e8cd-b575-4ea6-aac8-9eebd1439397",
   "metadata": {},
   "outputs": [],
   "source": [
    "#plots multiple variables\n",
    "plot(gw_prov)      "
   ]
  },
  {
   "cell_type": "code",
   "execution_count": null,
   "id": "997398dc-86f0-4ea5-b074-11c91940ae36",
   "metadata": {},
   "outputs": [],
   "source": [
    "#plots single variable\n",
    "plot(gw_prov[\"var3\"])"
   ]
  },
  {
   "cell_type": "markdown",
   "id": "f2fb0be2-6921-49ee-bf54-dc49b775ce0f",
   "metadata": {},
   "source": [
    "#### plotting with ```tmap```"
   ]
  },
  {
   "cell_type": "code",
   "execution_count": null,
   "id": "18a4c4a6-e597-4e77-8a4c-03051174bfad",
   "metadata": {
    "tags": []
   },
   "outputs": [],
   "source": [
    "tm_shape(gw_prov) + \n",
    "  tm_borders(\"red\") +\n",
    "  tm_fill(col = \"var3\") +\n",
    "  tm_layout(legend.outside = TRUE)  #several more options available to clean up legend"
   ]
  },
  {
   "cell_type": "markdown",
   "id": "480cc1a5-913d-4f8d-83d9-e910677df010",
   "metadata": {},
   "source": [
    "### Export Polygon Data\n",
    "\n",
    "```st_write(obj, \"./path/.../filename.shp\")```"
   ]
  },
  {
   "cell_type": "markdown",
   "id": "a5b3b570-f8b6-402a-8d06-fcc3b81b96f9",
   "metadata": {},
   "source": [
    "<a id=\"Ex3\"></a>\n",
    "### **<span style='color:Green'> Exercise 3: Explore Malawi LSMS Wave 5 (Polygon) Data</span>**   \n",
    "\n",
    "> *Data Source:*  \n",
    "> Malawi Living Standard Measurement Survey Integrated Household Sample (LSMS-IHS) Data Wave 5 Data is available from https://microdata.worldbank.org/index.php/catalog/3818  \n",
    "> The Shapefile can be downloaded from https://data.humdata.org/dataset/malawi-administrative-level-0-3-boundaries\n",
    "\n",
    "For today's workshop, the data has been downloaded, cleaned, transformed, and saved in the directory `./data/MWI`."
   ]
  },
  {
   "cell_type": "markdown",
   "id": "d1e0aa21-5551-4e4c-9a6c-a08d3fe6bccc",
   "metadata": {},
   "source": [
    "1. Read-in the `mwi_lsms` shapefile located in the `./data/MWI` folder."
   ]
  },
  {
   "cell_type": "code",
   "execution_count": null,
   "id": "fa30c96d-1fa9-4286-ad79-fe5a28462005",
   "metadata": {},
   "outputs": [],
   "source": []
  },
  {
   "cell_type": "markdown",
   "id": "307f19ba-b8ac-4f0c-a944-2db24e24eb12",
   "metadata": {},
   "source": [
    "<details>\n",
    "    \n",
    "<summary><span style='color:Green'> Click to see answer  </span></summary>\n",
    "\n",
    "Use `st_read()` to read in the MWI shapefile:\n",
    "\n",
    "```\n",
    "mwi_lsms <- st_read(\"./data/MWI\")\n",
    "```\n",
    "----\n",
    "          \n",
    "</details>"
   ]
  },
  {
   "cell_type": "markdown",
   "id": "294f5f98-3b8c-446b-abc7-40b724eefd70",
   "metadata": {},
   "source": [
    "2. Explore the characteristics of your shapefile. \n",
    "    1. How many features does it have?\n",
    "    2. How many fields does it have?\n",
    "    3. Calculate the summary statistics of the field data."
   ]
  },
  {
   "cell_type": "code",
   "execution_count": null,
   "id": "c32c969a-8648-4150-9b25-6c2e24bf3808",
   "metadata": {},
   "outputs": [],
   "source": []
  },
  {
   "cell_type": "markdown",
   "id": "26ce9c3a-8ada-45b8-864d-72beb4456c9a",
   "metadata": {},
   "source": [
    "<details>\n",
    "    \n",
    "<summary><span style='color:Green'> Click to see answer  </span></summary>\n",
    "\n",
    "Using both the print function `mwi_lsms` we see that there are 32 features and 18 fields.  \n",
    "\n",
    "Summary statistics can be calculated using `summary(mwi_lsms)`.\n",
    "    \n",
    "----\n",
    "          \n",
    "</details>"
   ]
  },
  {
   "cell_type": "markdown",
   "id": "e45a9c36-bb15-40f6-b6e5-0ac755f414e6",
   "metadata": {},
   "source": [
    "3. Create some choropleth maps\n",
    "    1. Plot a map of the outline of Malawi districts (ADM2 units) in base R.\n",
    "    2. Plot a map of all of first 18 variables in base R.\n",
    "    3. Plot a map of the `poverty` variable in base R.\n",
    "    4. Plot a map of the `poverty` variable in tmap."
   ]
  },
  {
   "cell_type": "code",
   "execution_count": null,
   "id": "9f1c2506-a636-45ae-abfc-2ea20e3c7050",
   "metadata": {},
   "outputs": [],
   "source": []
  },
  {
   "cell_type": "markdown",
   "id": "e43c988e-abc2-40b9-9789-b4dd66105bab",
   "metadata": {},
   "source": [
    "<details>\n",
    "    \n",
    "<summary><span style='color:Green'> Click to see answer  </span></summary>\n",
    "\n",
    "```\n",
    "# Geometry in base R\n",
    "plot(st_geometry(mwi_lsms))\n",
    "\n",
    "# Multiple variables in base R \n",
    "plot(mwi_lsms, max.plot = 18)\n",
    "\n",
    "# dist_road in base R\n",
    "plot(mwi_lsms[\"poverty\"])\n",
    "\n",
    "#dist_road` in tmap \n",
    "tm_shape(mwi_lsms) + \n",
    "  tm_polygons(col = \"poverty\")\n",
    "```\n",
    "\n",
    "----\n",
    "          \n",
    "</details>"
   ]
  },
  {
   "cell_type": "markdown",
   "id": "2c85bb89-387a-47f5-b1ae-c32c062586db",
   "metadata": {
    "tags": []
   },
   "source": [
    "<a id=\"Raster\"></a>\n",
    "## **Working with Raster Data in R**\n",
    "### Importing Raster Files\n",
    "\n",
    "Our first step is to read in the raster file that contains our data. For this example, we will be using the *Cropland Data Layer 2020, Minnesota* data. \n",
    "\n",
    "> The United States Department of Agriculture (USDA), National Agricultural Statistics Service (NASS) Cropland Data Layer (CDL) is a raster, geo-referenced, crop-specific land cover data layer.\n",
    "\n",
    "For today's workshop, the data has been transformed to represent 3 categories: non-cropland (0), corn (1), and other cropland (2). We read in raster data using the `terra` package."
   ]
  },
  {
   "cell_type": "code",
   "execution_count": null,
   "id": "45e79d59-d8b9-41c2-86e9-09334af0660a",
   "metadata": {},
   "outputs": [],
   "source": [
    "cdl <- rast(\"./data/MN/cdl_2020/cdl3_3km.tif\") \n",
    "cdl"
   ]
  },
  {
   "cell_type": "markdown",
   "id": "446268cc-c732-4562-8acd-7727616c9835",
   "metadata": {},
   "source": [
    "### Summarizing Raster Data"
   ]
  },
  {
   "cell_type": "code",
   "execution_count": null,
   "id": "b0150bac-0c91-4dec-a63e-b19925f3c6a1",
   "metadata": {
    "tags": []
   },
   "outputs": [],
   "source": [
    "nrow(cdl) #number of rows"
   ]
  },
  {
   "cell_type": "code",
   "execution_count": null,
   "id": "731779e0-2146-4cb9-8aeb-49aa856e41cb",
   "metadata": {},
   "outputs": [],
   "source": [
    "ncol(cdl) #number of columns\n",
    "ncell(cdl)"
   ]
  },
  {
   "cell_type": "code",
   "execution_count": null,
   "id": "c8c2ebaa-1b18-400b-b993-198ba38661bc",
   "metadata": {},
   "outputs": [],
   "source": [
    "res(cdl) #resolution"
   ]
  },
  {
   "cell_type": "code",
   "execution_count": null,
   "id": "32c1e54d-bc76-430a-bcb4-55dc5d8b37aa",
   "metadata": {},
   "outputs": [],
   "source": [
    "ext(cdl) #bounding box"
   ]
  },
  {
   "cell_type": "code",
   "execution_count": null,
   "id": "2790e929-949b-4ec9-b755-1b59f45441ac",
   "metadata": {},
   "outputs": [],
   "source": [
    "crs(cdl) #coordinate reference system"
   ]
  },
  {
   "cell_type": "code",
   "execution_count": null,
   "id": "06ae2457-69a1-4ac8-8f6a-943e0a8bc47a",
   "metadata": {},
   "outputs": [],
   "source": [
    "hist(cdl) #histogram of values"
   ]
  },
  {
   "cell_type": "markdown",
   "id": "d3a28fab-641e-4a5e-8d16-f4e215780066",
   "metadata": {},
   "source": [
    "### Simple Maps from Raster Data"
   ]
  },
  {
   "cell_type": "markdown",
   "id": "dd4813c1-6e96-4be7-80aa-3428acb8b8eb",
   "metadata": {},
   "source": [
    "#### plotting with ```base R```"
   ]
  },
  {
   "cell_type": "code",
   "execution_count": null,
   "id": "fb4de9ec-68d3-4468-b5d8-3a329ec04a43",
   "metadata": {},
   "outputs": [],
   "source": [
    "plot(cdl)    "
   ]
  },
  {
   "cell_type": "markdown",
   "id": "391e9b03-49a6-4e97-9a6c-504165834bbd",
   "metadata": {},
   "source": [
    "#### plotting with ```tmap```"
   ]
  },
  {
   "cell_type": "code",
   "execution_count": null,
   "id": "bc063090-10d7-4cd9-b55c-a2998f489bb7",
   "metadata": {
    "tags": []
   },
   "outputs": [],
   "source": [
    "tm_shape(cdl) + \n",
    "  tm_raster() +\n",
    "  tm_layout(legend.outside = TRUE)"
   ]
  },
  {
   "cell_type": "markdown",
   "id": "a56ff5b7-7923-4679-b5a9-d302649bdfc0",
   "metadata": {},
   "source": [
    "### Export Raster Data\n",
    "\n",
    "```writeRaster(obj, \"./path/.../filename.tif\", overwrite=TRUE)```\n",
    "\n",
    "I recommend you write out your raster objects as GeoTiff files"
   ]
  },
  {
   "cell_type": "markdown",
   "id": "60cf56e0-72dc-4b78-b21d-1d6596165af7",
   "metadata": {},
   "source": [
    "<a id=\"Ex4\"></a>\n",
    "### **<span style='color:Green'> Exercise 4: Explore Malawi LSMS Wave 5 (Raster) Data</span>**   \n",
    "\n",
    "> *Data Source:*  \n",
    "> The data were aggregated from SRTM 90 m resolution data between -60 and 60 latitude. \n",
    "\n",
    "The data will be downloaded directly using the `raster::getData()` function in R"
   ]
  },
  {
   "cell_type": "markdown",
   "id": "5b04c706-506d-48d3-b277-b73aad68549c",
   "metadata": {},
   "source": [
    "1. Using the command `mwi_dem <- raster::getData('alt', country='MWI', mask=TRUE, path = \"./data/MWI\")`, download the digital elevation model (dem) data for Malawi. "
   ]
  },
  {
   "cell_type": "code",
   "execution_count": null,
   "id": "493cdafd-19d8-4d23-8e67-95d5de1dd9d4",
   "metadata": {},
   "outputs": [],
   "source": []
  },
  {
   "cell_type": "markdown",
   "id": "63afe623-104e-4a7b-81e4-4378f9d4816c",
   "metadata": {},
   "source": [
    "2. Convert file to a `terra::SpatRaster` object using the `rast()` command. [You can ignore the warnings.]"
   ]
  },
  {
   "cell_type": "code",
   "execution_count": null,
   "id": "fd38b83b-79d3-4abe-854d-b1d6c482eead",
   "metadata": {},
   "outputs": [],
   "source": []
  },
  {
   "cell_type": "markdown",
   "id": "b2141f7e-358a-4de7-a14c-d9fadf93be4b",
   "metadata": {},
   "source": [
    "<details>\n",
    "    \n",
    "<summary><span style='color:Green'> Click to see answer  </span></summary>\n",
    "\n",
    "```\n",
    "mwi_dem <- rast(mwi_dem)\n",
    "```\n",
    "----\n",
    "          \n",
    "</details>"
   ]
  },
  {
   "cell_type": "markdown",
   "id": "8547955a-dd29-4c00-813a-02c0e4011fa2",
   "metadata": {},
   "source": [
    "3. Set coordinate reference system using the command `crs(mwi_dem) <- \"epsg:4326\"`"
   ]
  },
  {
   "cell_type": "code",
   "execution_count": null,
   "id": "258af720-5f24-4663-bd04-6c9d5e3c4d63",
   "metadata": {},
   "outputs": [],
   "source": []
  },
  {
   "cell_type": "markdown",
   "id": "adbbfc20-2cf3-4571-aebc-78cfa4d3c9ee",
   "metadata": {},
   "source": [
    "4. Explore the characteristics of your raster. \n",
    "    1. How many rows and columns does it have?\n",
    "    2. What is the resolution?\n",
    "    3. What is the coordinate reference system?\n",
    "    4. What is the distribution of values?"
   ]
  },
  {
   "cell_type": "code",
   "execution_count": null,
   "id": "862c1df1-a7aa-41be-886a-86923128a0dc",
   "metadata": {},
   "outputs": [],
   "source": []
  },
  {
   "cell_type": "markdown",
   "id": "5d028a01-9e5b-44c0-a7f3-39d0a6822cce",
   "metadata": {},
   "source": [
    "<details>\n",
    "    \n",
    "<summary><span style='color:Green'> Click to see answer  </span></summary>\n",
    "\n",
    "By printing your raster object `mwi_dem` or using `nrow(mwi_dem)`, `ncol(mwi_dem)`, `res(mwi_dem)`, and `crs(mwi_dem)` you can see that \n",
    "    \n",
    "* There are 948 rows and 408 columns\n",
    "* The cell resolution is 0.008333333 degrees, which is also referred to as 30 arc-seconds (approximately 1km at the equator)\n",
    "* The coordinate reference system is lon/lat WGS 84 (EPSG:4326)\n",
    "* The distribution of elevation ranges from 32 meters to 2,748 meters above sea level\n",
    "   \n",
    "The distribution of elevation can also be seen using a histogram\n",
    "```\n",
    "hist(mwi_dem)\n",
    "```\n",
    "\n",
    "----\n",
    "          \n",
    "</details>"
   ]
  },
  {
   "cell_type": "markdown",
   "id": "f5139696-df02-489b-a77d-5ce8e23fc8e8",
   "metadata": {},
   "source": [
    "5. Create some maps\n",
    "    1. Plot a map of elevation in base R.\n",
    "    2. Plot a map of elevation in tmap."
   ]
  },
  {
   "cell_type": "code",
   "execution_count": null,
   "id": "2ef65d72-55da-4d66-ad87-aef190fec7ba",
   "metadata": {},
   "outputs": [],
   "source": []
  },
  {
   "cell_type": "markdown",
   "id": "a2ccd2f8-ad19-4ff1-86c3-af6835f5f063",
   "metadata": {},
   "source": [
    "<details>\n",
    "    \n",
    "<summary><span style='color:Green'> Click to see answer  </span></summary>\n",
    "\n",
    "```\n",
    "# elevation in base R\n",
    "plot(mwi_dem)\n",
    "\n",
    "# elevation in tmap \n",
    "tm_shape(mwi_dem) + \n",
    "  tm_raster() +\n",
    "  tm_layout(legend.outside = TRUE)\n",
    "```\n",
    "\n",
    "----\n",
    "          \n",
    "</details>"
   ]
  },
  {
   "cell_type": "markdown",
   "id": "044ba3b3-8d3f-441e-906f-3664bc9e4210",
   "metadata": {
    "tags": []
   },
   "source": [
    "<a id=\"Map\"></a>\n",
    "## **Layering Features**\n",
    "\n",
    "Now that you know how to import and map vector and raster data you can start layering muliple objects on top of one another in your maps. "
   ]
  },
  {
   "cell_type": "code",
   "execution_count": null,
   "id": "b7d2a47a-385e-44a4-8821-1079ed0b954f",
   "metadata": {},
   "outputs": [],
   "source": [
    "tm_shape(cdl) + tm_raster(title = \"Land Class\", palette = \"Set2\") +\n",
    "  tm_shape(gw_prov) + tm_borders() + \n",
    "  tm_shape(soil_samp) + tm_bubbles(\"temp_20211005\", size = 0.2, palette = \"Greys\") +\n",
    "  tm_layout(legend.outside = TRUE)"
   ]
  },
  {
   "cell_type": "markdown",
   "id": "80300013-ae88-4f5c-85a1-f3b6dd051d45",
   "metadata": {},
   "source": [
    "### Picking Colors\n",
    "I recommend using the Color Brewer website to pick color palettes for your maps: https://colorbrewer2.org/"
   ]
  },
  {
   "cell_type": "markdown",
   "id": "f1ee0b6d-baa3-4b5c-927f-65a6a0aaf722",
   "metadata": {},
   "source": [
    "### Export tmap Images\n",
    "\n",
    "```tmap_save(obj, \"./path/.../filename.png\", height = 4, width = 6, unit = \"in\")```"
   ]
  },
  {
   "cell_type": "markdown",
   "id": "adb0ed35-b55c-4a64-b958-4c8e99d275d4",
   "metadata": {},
   "source": [
    "<a id=\"Ex5\"></a>\n",
    "### **<span style='color:Green'> Exercise 5: Maps with Multiple Features</span>**   "
   ]
  },
  {
   "cell_type": "markdown",
   "id": "bbca68dc-e7c1-49df-bf0f-db8c71f59a5e",
   "metadata": {},
   "source": [
    "1. Create a `tmap` object with three features\n",
    "    1. Malawi DEM (raster)\n",
    "    2. Malawi district boundaries borders (polygon)\n",
    "    3. Malawi LSMS surveyed enumeration areas (point)"
   ]
  },
  {
   "cell_type": "markdown",
   "id": "b664302a-2912-48c8-85d5-7903243f47f5",
   "metadata": {},
   "source": [
    "<details>\n",
    "    \n",
    "<summary><span style='color:Green'> Click to see answer  </span></summary>\n",
    "\n",
    "```\n",
    "tm_shape(mwi_dem) + tm_raster() +\n",
    "  tm_shape(mwi_lsms) + tm_borders() + \n",
    "  tm_shape(ea_geo) + tm_dots(size = 0.2) +\n",
    "  tm_layout(legend.outside = TRUE)\n",
    "```\n",
    "----\n",
    "          \n",
    "</details>"
   ]
  }
 ],
 "metadata": {
  "kernelspec": {
   "display_name": "R",
   "language": "R",
   "name": "ir"
  },
  "language_info": {
   "codemirror_mode": "r",
   "file_extension": ".r",
   "mimetype": "text/x-r-source",
   "name": "R",
   "pygments_lexer": "r",
   "version": "4.1.2"
  }
 },
 "nbformat": 4,
 "nbformat_minor": 5
}
